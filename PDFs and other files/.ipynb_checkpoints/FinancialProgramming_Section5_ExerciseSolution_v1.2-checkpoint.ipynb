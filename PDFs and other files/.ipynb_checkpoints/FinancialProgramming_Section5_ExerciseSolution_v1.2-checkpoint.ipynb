{
 "cells": [
  {
   "cell_type": "markdown",
   "metadata": {},
   "source": [
    "![Python Logo](./img/python-logo-master-v3-TM-flattened_small.png)\n",
    "\n",
    "# Financial Programming - IÉSEG, Lille - MBD 2018-2019\n",
    "## Section 5 - Introduction to Machine Learning with Python (with solutions)"
   ]
  },
  {
   "cell_type": "code",
   "execution_count": 40,
   "metadata": {},
   "outputs": [],
   "source": [
    "first_name = ''\n",
    "last_name = ''"
   ]
  },
  {
   "cell_type": "markdown",
   "metadata": {},
   "source": [
    "## Part 1: Review Section 4"
   ]
  },
  {
   "cell_type": "code",
   "execution_count": 3,
   "metadata": {},
   "outputs": [],
   "source": [
    "# Import libraries\n",
    "import numpy as np               # Arrary\n",
    "import pandas as pd              # DataFrame\n",
    "import matplotlib.pyplot as plt  # Visualization\n",
    "import seaborn as sns            # Visualization"
   ]
  },
  {
   "cell_type": "markdown",
   "metadata": {},
   "source": [
    "**Review exercise 1:** Explore the table loan and answer the following questions (assuming that the current year is 1999):\n",
    "\n",
    "Q1: Which age group ask for loan the most?  \n",
    "Q2: How about the loan status in each age group?  \n",
    "Q3: How about the loan status in each gender group?  \n",
    "Q4: How about the loan status in each group of length of relationship?  \n",
    "\n",
    "![financial_data](./img/financial_data3.PNG)"
   ]
  },
  {
   "cell_type": "code",
   "execution_count": 606,
   "metadata": {},
   "outputs": [],
   "source": [
    "# Import banking data\n",
    "client = pd.read_csv('./data/data_berka/client.asc', sep=';')\n",
    "account = pd.read_csv('./data/data_berka/account.asc', sep=';')\n",
    "card = pd.read_csv('./data/data_berka/card.asc', sep=';')\n",
    "disp = pd.read_csv('./data/data_berka/disp.asc', sep=';')\n",
    "order = pd.read_csv('./data/data_berka/order.asc', sep=';')\n",
    "trans = pd.read_csv('./data/data_berka/trans.asc', sep=';', low_memory=False)\n",
    "loan = pd.read_csv('./data/data_berka/loan.asc', sep=';')\n",
    "district = pd.read_csv('./data/data_berka/district.asc', sep=';')"
   ]
  },
  {
   "cell_type": "code",
   "execution_count": 607,
   "metadata": {},
   "outputs": [],
   "source": [
    "# Transform the birth day into year\n",
    "client['birth_year'] = client['birth_number'].transform(lambda bn: int('19' + str(bn)[:2]))\n",
    "\n",
    "# Age\n",
    "client['age'] = 1999 - client['birth_year']\n",
    "\n",
    "# Age group\n",
    "client['age_group'] = client['age'] // 10 * 10\n",
    "\n",
    "# Function to extract birth month and gender\n",
    "def to_month_gender(birth_number):\n",
    "    \n",
    "    s = str(birth_number)\n",
    "    birth_month = int(s[2:4])\n",
    "    \n",
    "    if birth_month > 50:\n",
    "        gender = \"F\"\n",
    "        birth_month = birth_month - 50\n",
    "    else:\n",
    "        gender = 'M'\n",
    "        \n",
    "    return pd.Series({'birth_month':birth_month, 'gender':gender})\n",
    "\n",
    "client[['birth_month', 'gender']] = client['birth_number'].apply(to_month_gender)"
   ]
  },
  {
   "cell_type": "markdown",
   "metadata": {},
   "source": [
    "**Q1:** Which age group ask for loan the most?"
   ]
  },
  {
   "cell_type": "code",
   "execution_count": 608,
   "metadata": {},
   "outputs": [
    {
     "data": {
      "text/html": [
       "<div>\n",
       "<style scoped>\n",
       "    .dataframe tbody tr th:only-of-type {\n",
       "        vertical-align: middle;\n",
       "    }\n",
       "\n",
       "    .dataframe tbody tr th {\n",
       "        vertical-align: top;\n",
       "    }\n",
       "\n",
       "    .dataframe thead th {\n",
       "        text-align: right;\n",
       "    }\n",
       "</style>\n",
       "<table border=\"1\" class=\"dataframe\">\n",
       "  <thead>\n",
       "    <tr style=\"text-align: right;\">\n",
       "      <th></th>\n",
       "      <th>client_id</th>\n",
       "      <th>birth_number</th>\n",
       "      <th>district_id</th>\n",
       "      <th>birth_year</th>\n",
       "      <th>age</th>\n",
       "      <th>age_group</th>\n",
       "      <th>birth_month</th>\n",
       "      <th>gender</th>\n",
       "      <th>disp_id</th>\n",
       "      <th>account_id</th>\n",
       "      <th>type</th>\n",
       "      <th>loan_id</th>\n",
       "      <th>date</th>\n",
       "      <th>amount</th>\n",
       "      <th>duration</th>\n",
       "      <th>payments</th>\n",
       "      <th>status</th>\n",
       "    </tr>\n",
       "  </thead>\n",
       "  <tbody>\n",
       "    <tr>\n",
       "      <th>0</th>\n",
       "      <td>1</td>\n",
       "      <td>706213</td>\n",
       "      <td>18</td>\n",
       "      <td>1970</td>\n",
       "      <td>29</td>\n",
       "      <td>20</td>\n",
       "      <td>12</td>\n",
       "      <td>F</td>\n",
       "      <td>1</td>\n",
       "      <td>1</td>\n",
       "      <td>OWNER</td>\n",
       "      <td>NaN</td>\n",
       "      <td>NaN</td>\n",
       "      <td>NaN</td>\n",
       "      <td>NaN</td>\n",
       "      <td>NaN</td>\n",
       "      <td>NaN</td>\n",
       "    </tr>\n",
       "    <tr>\n",
       "      <th>1</th>\n",
       "      <td>2</td>\n",
       "      <td>450204</td>\n",
       "      <td>1</td>\n",
       "      <td>1945</td>\n",
       "      <td>54</td>\n",
       "      <td>50</td>\n",
       "      <td>2</td>\n",
       "      <td>M</td>\n",
       "      <td>2</td>\n",
       "      <td>2</td>\n",
       "      <td>OWNER</td>\n",
       "      <td>4959.0</td>\n",
       "      <td>940105.0</td>\n",
       "      <td>80952.0</td>\n",
       "      <td>24.0</td>\n",
       "      <td>3373.0</td>\n",
       "      <td>A</td>\n",
       "    </tr>\n",
       "    <tr>\n",
       "      <th>2</th>\n",
       "      <td>3</td>\n",
       "      <td>406009</td>\n",
       "      <td>1</td>\n",
       "      <td>1940</td>\n",
       "      <td>59</td>\n",
       "      <td>50</td>\n",
       "      <td>10</td>\n",
       "      <td>F</td>\n",
       "      <td>3</td>\n",
       "      <td>2</td>\n",
       "      <td>DISPONENT</td>\n",
       "      <td>4959.0</td>\n",
       "      <td>940105.0</td>\n",
       "      <td>80952.0</td>\n",
       "      <td>24.0</td>\n",
       "      <td>3373.0</td>\n",
       "      <td>A</td>\n",
       "    </tr>\n",
       "    <tr>\n",
       "      <th>3</th>\n",
       "      <td>4</td>\n",
       "      <td>561201</td>\n",
       "      <td>5</td>\n",
       "      <td>1956</td>\n",
       "      <td>43</td>\n",
       "      <td>40</td>\n",
       "      <td>12</td>\n",
       "      <td>M</td>\n",
       "      <td>4</td>\n",
       "      <td>3</td>\n",
       "      <td>OWNER</td>\n",
       "      <td>NaN</td>\n",
       "      <td>NaN</td>\n",
       "      <td>NaN</td>\n",
       "      <td>NaN</td>\n",
       "      <td>NaN</td>\n",
       "      <td>NaN</td>\n",
       "    </tr>\n",
       "    <tr>\n",
       "      <th>4</th>\n",
       "      <td>5</td>\n",
       "      <td>605703</td>\n",
       "      <td>5</td>\n",
       "      <td>1960</td>\n",
       "      <td>39</td>\n",
       "      <td>30</td>\n",
       "      <td>7</td>\n",
       "      <td>F</td>\n",
       "      <td>5</td>\n",
       "      <td>3</td>\n",
       "      <td>DISPONENT</td>\n",
       "      <td>NaN</td>\n",
       "      <td>NaN</td>\n",
       "      <td>NaN</td>\n",
       "      <td>NaN</td>\n",
       "      <td>NaN</td>\n",
       "      <td>NaN</td>\n",
       "    </tr>\n",
       "  </tbody>\n",
       "</table>\n",
       "</div>"
      ],
      "text/plain": [
       "   client_id  birth_number  district_id  birth_year  age  age_group  \\\n",
       "0          1        706213           18        1970   29         20   \n",
       "1          2        450204            1        1945   54         50   \n",
       "2          3        406009            1        1940   59         50   \n",
       "3          4        561201            5        1956   43         40   \n",
       "4          5        605703            5        1960   39         30   \n",
       "\n",
       "   birth_month gender  disp_id  account_id       type  loan_id      date  \\\n",
       "0           12      F        1           1      OWNER      NaN       NaN   \n",
       "1            2      M        2           2      OWNER   4959.0  940105.0   \n",
       "2           10      F        3           2  DISPONENT   4959.0  940105.0   \n",
       "3           12      M        4           3      OWNER      NaN       NaN   \n",
       "4            7      F        5           3  DISPONENT      NaN       NaN   \n",
       "\n",
       "    amount  duration  payments status  \n",
       "0      NaN       NaN       NaN    NaN  \n",
       "1  80952.0      24.0    3373.0      A  \n",
       "2  80952.0      24.0    3373.0      A  \n",
       "3      NaN       NaN       NaN    NaN  \n",
       "4      NaN       NaN       NaN    NaN  "
      ]
     },
     "execution_count": 608,
     "metadata": {},
     "output_type": "execute_result"
    }
   ],
   "source": [
    "# Merge the client, disp and loan tables\n",
    "client_acc = pd.merge(client, disp, on='client_id', how='left')\n",
    "client_loan = pd.merge(client_acc, loan, on='account_id', how='left')\n",
    "client_loan.head()"
   ]
  },
  {
   "cell_type": "code",
   "execution_count": 609,
   "metadata": {},
   "outputs": [],
   "source": [
    "# Add a new column indicate the loan/not loan status\n",
    "client_loan['is_loan'] = -client_loan.status.isna()"
   ]
  },
  {
   "cell_type": "code",
   "execution_count": 610,
   "metadata": {},
   "outputs": [
    {
     "data": {
      "text/plain": [
       "age_group\n",
       "10     21.0\n",
       "20    176.0\n",
       "30    188.0\n",
       "40    186.0\n",
       "50    190.0\n",
       "60     66.0\n",
       "70      0.0\n",
       "80      0.0\n",
       "Name: is_loan, dtype: float64"
      ]
     },
     "execution_count": 610,
     "metadata": {},
     "output_type": "execute_result"
    }
   ],
   "source": [
    "client_loan.groupby('age_group')['is_loan'].agg('sum')"
   ]
  },
  {
   "cell_type": "markdown",
   "metadata": {},
   "source": [
    "**Q2:** How about the loan status in each age group?"
   ]
  },
  {
   "cell_type": "code",
   "execution_count": 592,
   "metadata": {},
   "outputs": [
    {
     "data": {
      "text/plain": [
       "age_group  status\n",
       "10         A           7\n",
       "           C          13\n",
       "           D           1\n",
       "20         A          56\n",
       "           B           6\n",
       "           C         103\n",
       "           D          11\n",
       "30         A          57\n",
       "           B           4\n",
       "           C         115\n",
       "           D          12\n",
       "40         A          56\n",
       "           B           7\n",
       "           C         114\n",
       "           D           9\n",
       "50         A          61\n",
       "           B          10\n",
       "           C         113\n",
       "           D           6\n",
       "60         A          21\n",
       "           B           4\n",
       "           C          35\n",
       "           D           6\n",
       "Name: client_id, dtype: int64"
      ]
     },
     "execution_count": 592,
     "metadata": {},
     "output_type": "execute_result"
    }
   ],
   "source": [
    "# Solution 1: Group by\n",
    "client_loan.groupby(['age_group', 'status'])['client_id'].agg('count')"
   ]
  },
  {
   "cell_type": "code",
   "execution_count": 591,
   "metadata": {},
   "outputs": [
    {
     "data": {
      "text/html": [
       "<div>\n",
       "<style scoped>\n",
       "    .dataframe tbody tr th:only-of-type {\n",
       "        vertical-align: middle;\n",
       "    }\n",
       "\n",
       "    .dataframe tbody tr th {\n",
       "        vertical-align: top;\n",
       "    }\n",
       "\n",
       "    .dataframe thead th {\n",
       "        text-align: right;\n",
       "    }\n",
       "</style>\n",
       "<table border=\"1\" class=\"dataframe\">\n",
       "  <thead>\n",
       "    <tr style=\"text-align: right;\">\n",
       "      <th>status</th>\n",
       "      <th>A</th>\n",
       "      <th>B</th>\n",
       "      <th>C</th>\n",
       "      <th>D</th>\n",
       "    </tr>\n",
       "    <tr>\n",
       "      <th>age_group</th>\n",
       "      <th></th>\n",
       "      <th></th>\n",
       "      <th></th>\n",
       "      <th></th>\n",
       "    </tr>\n",
       "  </thead>\n",
       "  <tbody>\n",
       "    <tr>\n",
       "      <th>10</th>\n",
       "      <td>7</td>\n",
       "      <td>0</td>\n",
       "      <td>13</td>\n",
       "      <td>1</td>\n",
       "    </tr>\n",
       "    <tr>\n",
       "      <th>20</th>\n",
       "      <td>56</td>\n",
       "      <td>6</td>\n",
       "      <td>103</td>\n",
       "      <td>11</td>\n",
       "    </tr>\n",
       "    <tr>\n",
       "      <th>30</th>\n",
       "      <td>57</td>\n",
       "      <td>4</td>\n",
       "      <td>115</td>\n",
       "      <td>12</td>\n",
       "    </tr>\n",
       "    <tr>\n",
       "      <th>40</th>\n",
       "      <td>56</td>\n",
       "      <td>7</td>\n",
       "      <td>114</td>\n",
       "      <td>9</td>\n",
       "    </tr>\n",
       "    <tr>\n",
       "      <th>50</th>\n",
       "      <td>61</td>\n",
       "      <td>10</td>\n",
       "      <td>113</td>\n",
       "      <td>6</td>\n",
       "    </tr>\n",
       "    <tr>\n",
       "      <th>60</th>\n",
       "      <td>21</td>\n",
       "      <td>4</td>\n",
       "      <td>35</td>\n",
       "      <td>6</td>\n",
       "    </tr>\n",
       "  </tbody>\n",
       "</table>\n",
       "</div>"
      ],
      "text/plain": [
       "status      A   B    C   D\n",
       "age_group                 \n",
       "10          7   0   13   1\n",
       "20         56   6  103  11\n",
       "30         57   4  115  12\n",
       "40         56   7  114   9\n",
       "50         61  10  113   6\n",
       "60         21   4   35   6"
      ]
     },
     "execution_count": 591,
     "metadata": {},
     "output_type": "execute_result"
    }
   ],
   "source": [
    "# Solution 2: Pivot table\n",
    "pd.pivot_table(client_loan, values='client_id', index='age_group', columns='status', aggfunc='count', fill_value=0)"
   ]
  },
  {
   "cell_type": "markdown",
   "metadata": {},
   "source": [
    "**Q3:** How about the loan status in each gender group?"
   ]
  },
  {
   "cell_type": "code",
   "execution_count": 597,
   "metadata": {},
   "outputs": [
    {
     "data": {
      "text/html": [
       "<div>\n",
       "<style scoped>\n",
       "    .dataframe tbody tr th:only-of-type {\n",
       "        vertical-align: middle;\n",
       "    }\n",
       "\n",
       "    .dataframe tbody tr th {\n",
       "        vertical-align: top;\n",
       "    }\n",
       "\n",
       "    .dataframe thead th {\n",
       "        text-align: right;\n",
       "    }\n",
       "</style>\n",
       "<table border=\"1\" class=\"dataframe\">\n",
       "  <thead>\n",
       "    <tr style=\"text-align: right;\">\n",
       "      <th>status</th>\n",
       "      <th>A</th>\n",
       "      <th>B</th>\n",
       "      <th>C</th>\n",
       "      <th>D</th>\n",
       "    </tr>\n",
       "    <tr>\n",
       "      <th>gender</th>\n",
       "      <th></th>\n",
       "      <th></th>\n",
       "      <th></th>\n",
       "      <th></th>\n",
       "    </tr>\n",
       "  </thead>\n",
       "  <tbody>\n",
       "    <tr>\n",
       "      <th>F</th>\n",
       "      <td>130</td>\n",
       "      <td>17</td>\n",
       "      <td>246</td>\n",
       "      <td>24</td>\n",
       "    </tr>\n",
       "    <tr>\n",
       "      <th>M</th>\n",
       "      <td>128</td>\n",
       "      <td>14</td>\n",
       "      <td>247</td>\n",
       "      <td>21</td>\n",
       "    </tr>\n",
       "  </tbody>\n",
       "</table>\n",
       "</div>"
      ],
      "text/plain": [
       "status    A   B    C   D\n",
       "gender                  \n",
       "F       130  17  246  24\n",
       "M       128  14  247  21"
      ]
     },
     "execution_count": 597,
     "metadata": {},
     "output_type": "execute_result"
    }
   ],
   "source": [
    "pd.pivot_table(client_loan, values='client_id', index='gender', columns='status', aggfunc='count', fill_value=0)"
   ]
  },
  {
   "cell_type": "markdown",
   "metadata": {},
   "source": [
    "**Q4:** How about the loan status in each group of length of relationship?"
   ]
  },
  {
   "cell_type": "code",
   "execution_count": 611,
   "metadata": {},
   "outputs": [],
   "source": [
    "# Get the year client opened bank account\n",
    "client_loan = pd.merge(client_loan, account, on='account_id', how='left')\n",
    "\n",
    "# Account opened year\n",
    "client_loan['acc_open_year'] = client_loan['date_y'].transform(lambda bn: int('19' + str(bn)[:2]))"
   ]
  },
  {
   "cell_type": "code",
   "execution_count": 613,
   "metadata": {},
   "outputs": [],
   "source": [
    "# Length of relationship (in year)\n",
    "client_loan['lor'] = 1999 - client_loan['acc_open_year']"
   ]
  },
  {
   "cell_type": "code",
   "execution_count": 616,
   "metadata": {},
   "outputs": [
    {
     "data": {
      "text/html": [
       "<div>\n",
       "<style scoped>\n",
       "    .dataframe tbody tr th:only-of-type {\n",
       "        vertical-align: middle;\n",
       "    }\n",
       "\n",
       "    .dataframe tbody tr th {\n",
       "        vertical-align: top;\n",
       "    }\n",
       "\n",
       "    .dataframe thead th {\n",
       "        text-align: right;\n",
       "    }\n",
       "</style>\n",
       "<table border=\"1\" class=\"dataframe\">\n",
       "  <thead>\n",
       "    <tr style=\"text-align: right;\">\n",
       "      <th>status</th>\n",
       "      <th>A</th>\n",
       "      <th>B</th>\n",
       "      <th>C</th>\n",
       "      <th>D</th>\n",
       "    </tr>\n",
       "    <tr>\n",
       "      <th>lor</th>\n",
       "      <th></th>\n",
       "      <th></th>\n",
       "      <th></th>\n",
       "      <th></th>\n",
       "    </tr>\n",
       "  </thead>\n",
       "  <tbody>\n",
       "    <tr>\n",
       "      <th>2</th>\n",
       "      <td>8</td>\n",
       "      <td>0</td>\n",
       "      <td>130</td>\n",
       "      <td>5</td>\n",
       "    </tr>\n",
       "    <tr>\n",
       "      <th>3</th>\n",
       "      <td>53</td>\n",
       "      <td>3</td>\n",
       "      <td>213</td>\n",
       "      <td>20</td>\n",
       "    </tr>\n",
       "    <tr>\n",
       "      <th>4</th>\n",
       "      <td>32</td>\n",
       "      <td>8</td>\n",
       "      <td>82</td>\n",
       "      <td>9</td>\n",
       "    </tr>\n",
       "    <tr>\n",
       "      <th>5</th>\n",
       "      <td>34</td>\n",
       "      <td>3</td>\n",
       "      <td>39</td>\n",
       "      <td>4</td>\n",
       "    </tr>\n",
       "    <tr>\n",
       "      <th>6</th>\n",
       "      <td>131</td>\n",
       "      <td>17</td>\n",
       "      <td>29</td>\n",
       "      <td>7</td>\n",
       "    </tr>\n",
       "  </tbody>\n",
       "</table>\n",
       "</div>"
      ],
      "text/plain": [
       "status    A   B    C   D\n",
       "lor                     \n",
       "2         8   0  130   5\n",
       "3        53   3  213  20\n",
       "4        32   8   82   9\n",
       "5        34   3   39   4\n",
       "6       131  17   29   7"
      ]
     },
     "execution_count": 616,
     "metadata": {},
     "output_type": "execute_result"
    }
   ],
   "source": [
    "# Loan status in each group of LOR\n",
    "pd.pivot_table(client_loan, values='client_id', index='lor', columns='status', aggfunc='count', fill_value=0)"
   ]
  },
  {
   "cell_type": "markdown",
   "metadata": {},
   "source": [
    "## Part 2: Supervised Machine Learning with Python - Regression"
   ]
  },
  {
   "cell_type": "markdown",
   "metadata": {},
   "source": [
    "![regression](./img/linear_regression.jpeg)\n",
    "\n",
    "1. Linear Regression (Reg)\n",
    "2. k-Nearest Neighbors (kNN)\n",
    "3. Decision Tree (DT)\n",
    "4. Random Forest (RF)\n",
    "5. Boosting Tree (Boost)"
   ]
  },
  {
   "cell_type": "markdown",
   "metadata": {},
   "source": [
    "**2.1. Linear Regression**\n",
    "\n",
    "Ref: https://scikit-learn.org/stable/modules/generated/sklearn.linear_model.LinearRegression.html"
   ]
  },
  {
   "cell_type": "markdown",
   "metadata": {},
   "source": [
    "**Example 1:** Predict student GPA using stuying hours (file: ./data/Study-time-gpa.txt). Implement the following things:\n",
    "\n",
    "1. Construct a linear regression model on the student data.  \n",
    "2. Make prediction on training data.  \n",
    "3. Plot the data, the linear model and the predicted values on the same plot."
   ]
  },
  {
   "cell_type": "code",
   "execution_count": 6,
   "metadata": {},
   "outputs": [
    {
     "data": {
      "text/html": [
       "<div>\n",
       "<style scoped>\n",
       "    .dataframe tbody tr th:only-of-type {\n",
       "        vertical-align: middle;\n",
       "    }\n",
       "\n",
       "    .dataframe tbody tr th {\n",
       "        vertical-align: top;\n",
       "    }\n",
       "\n",
       "    .dataframe thead th {\n",
       "        text-align: right;\n",
       "    }\n",
       "</style>\n",
       "<table border=\"1\" class=\"dataframe\">\n",
       "  <thead>\n",
       "    <tr style=\"text-align: right;\">\n",
       "      <th></th>\n",
       "      <th>Hours</th>\n",
       "      <th>GPA</th>\n",
       "    </tr>\n",
       "  </thead>\n",
       "  <tbody>\n",
       "    <tr>\n",
       "      <th>0</th>\n",
       "      <td>15</td>\n",
       "      <td>3.4</td>\n",
       "    </tr>\n",
       "    <tr>\n",
       "      <th>1</th>\n",
       "      <td>11</td>\n",
       "      <td>2.1</td>\n",
       "    </tr>\n",
       "    <tr>\n",
       "      <th>2</th>\n",
       "      <td>21</td>\n",
       "      <td>2.8</td>\n",
       "    </tr>\n",
       "    <tr>\n",
       "      <th>3</th>\n",
       "      <td>25</td>\n",
       "      <td>3.7</td>\n",
       "    </tr>\n",
       "    <tr>\n",
       "      <th>4</th>\n",
       "      <td>24</td>\n",
       "      <td>2.1</td>\n",
       "    </tr>\n",
       "  </tbody>\n",
       "</table>\n",
       "</div>"
      ],
      "text/plain": [
       "   Hours  GPA\n",
       "0     15  3.4\n",
       "1     11  2.1\n",
       "2     21  2.8\n",
       "3     25  3.7\n",
       "4     24  2.1"
      ]
     },
     "execution_count": 6,
     "metadata": {},
     "output_type": "execute_result"
    }
   ],
   "source": [
    "# Load and present data\n",
    "students = pd.read_table('./data/Study-time-gpa.txt')\n",
    "students.head()"
   ]
  },
  {
   "cell_type": "code",
   "execution_count": 10,
   "metadata": {},
   "outputs": [
    {
     "data": {
      "image/png": "[encoded data removed]",
      "text/plain": [
       "<Figure size 432x288 with 1 Axes>"
      ]
     },
     "metadata": {
      "needs_background": "light"
     },
     "output_type": "display_data"
    }
   ],
   "source": [
    "# Visualize the data\n",
    "plt.scatter(x=students.Hours, y=students.GPA)\n",
    "plt.xlabel('Studing hours')\n",
    "plt.ylabel('GPA')\n",
    "plt.show()"
   ]
  },
  {
   "cell_type": "markdown",
   "metadata": {},
   "source": [
    "**1.** Construct a linear regression model on the student data."
   ]
  },
  {
   "cell_type": "code",
   "execution_count": 38,
   "metadata": {},
   "outputs": [
    {
     "data": {
      "text/plain": [
       "LinearRegression(copy_X=True, fit_intercept=True, n_jobs=None,\n",
       "         normalize=False)"
      ]
     },
     "execution_count": 38,
     "metadata": {},
     "output_type": "execute_result"
    }
   ],
   "source": [
    "# Fit a simple linear regression model\n",
    "from sklearn.linear_model import LinearRegression\n",
    "\n",
    "# Set up the model, meta-parameters (if any)\n",
    "reg_md = LinearRegression()\n",
    "\n",
    "# Prepare the data\n",
    "X = students.Hours.values.reshape(-1, 1)  # Transform predictor to 2D array\n",
    "y = students.GPA.values  # response is 1D array\n",
    "\n",
    "# Fit the model to the data\n",
    "reg_md.fit(X, y)"
   ]
  },
  {
   "cell_type": "code",
   "execution_count": 54,
   "metadata": {},
   "outputs": [
    {
     "name": "stdout",
     "output_type": "stream",
     "text": [
      "Intercept = 1.6396816919461654\n",
      "Coefficient = [0.05223243]\n"
     ]
    }
   ],
   "source": [
    "# Show the model\n",
    "print('Intercept =', reg_md.intercept_)\n",
    "print('Coefficient =', reg_md.coef_)"
   ]
  },
  {
   "cell_type": "markdown",
   "metadata": {},
   "source": [
    "**2.** Make prediction on training data."
   ]
  },
  {
   "cell_type": "code",
   "execution_count": 61,
   "metadata": {},
   "outputs": [
    {
     "data": {
      "text/plain": [
       "array([2.42316813, 2.21423841, 2.7365627 , 2.94549242, 2.89325999])"
      ]
     },
     "execution_count": 61,
     "metadata": {},
     "output_type": "execute_result"
    }
   ],
   "source": [
    "# Make prediction on the training data\n",
    "y_pred = reg_md.predict(X)\n",
    "y_pred[:5]"
   ]
  },
  {
   "cell_type": "markdown",
   "metadata": {},
   "source": [
    "**3.** Plot the data, the linear model and the predicted values on the same plot."
   ]
  },
  {
   "cell_type": "code",
   "execution_count": 62,
   "metadata": {},
   "outputs": [
    {
     "data": {
      "image/png": "[encoded data removed]",
      "text/plain": [
       "<Figure size 432x288 with 1 Axes>"
      ]
     },
     "metadata": {
      "needs_background": "light"
     },
     "output_type": "display_data"
    }
   ],
   "source": [
    "# Plot the model together with the data\n",
    "\n",
    "# The data\n",
    "plt.scatter(x=students.Hours, y=students.GPA)\n",
    "plt.xlabel('Studing hours')\n",
    "plt.ylabel('GPA')\n",
    "\n",
    "# The linear regression model\n",
    "x_plot = np.arange(min(students.Hours), max(students.Hours))  # Create value for x-axis\n",
    "y_plot = reg_md.intercept_ + reg_md.coef_[0] * x_plot  # Create value for y-axis using the linear model\n",
    "plt.plot(x_plot, y_plot, '-', color='red')\n",
    "\n",
    "# Predict values on train data\n",
    "plt.scatter(students.Hours, y_pred, color='red')\n",
    "\n",
    "plt.show()"
   ]
  },
  {
   "cell_type": "markdown",
   "metadata": {},
   "source": [
    "**Example 2:** Evaluate the linear regression model in Example 1."
   ]
  },
  {
   "cell_type": "code",
   "execution_count": 55,
   "metadata": {},
   "outputs": [],
   "source": [
    "# Import evaluation metrics from sklearn\n",
    "from sklearn.metrics import mean_squared_error, r2_score"
   ]
  },
  {
   "cell_type": "code",
   "execution_count": 57,
   "metadata": {},
   "outputs": [
    {
     "data": {
      "text/plain": [
       "0.37429171117282645"
      ]
     },
     "execution_count": 57,
     "metadata": {},
     "output_type": "execute_result"
    }
   ],
   "source": [
    "# Evaluate on training data, MSE\n",
    "mean_squared_error(y, reg_md.predict(X))"
   ]
  },
  {
   "cell_type": "code",
   "execution_count": 59,
   "metadata": {},
   "outputs": [
    {
     "name": "stdout",
     "output_type": "stream",
     "text": [
      "0.25439898172743725\n",
      "0.25439898172743725\n"
     ]
    }
   ],
   "source": [
    "# Evaluate on training data, R-squared\n",
    "# Ref: https://ragrawal.wordpress.com/2017/05/06/intuition-behind-r2-and-other-regression-evaluation-metrics/\n",
    "print(reg_md.score(X, y))\n",
    "print(r2_score(y, reg_md.predict(X)))"
   ]
  },
  {
   "cell_type": "code",
   "execution_count": 82,
   "metadata": {},
   "outputs": [
    {
     "data": {
      "text/plain": [
       "-0.4532995604298626"
      ]
     },
     "execution_count": 82,
     "metadata": {},
     "output_type": "execute_result"
    }
   ],
   "source": [
    "# Evaluate on whole data using k-fold cross-validation\n",
    "# Ref: https://scikit-learn.org/stable/modules/model_evaluation.html\n",
    "from sklearn.model_selection import cross_val_score\n",
    "score = cross_val_score(reg_md, X, y, cv=5, scoring='r2')  # k=5\n",
    "score.mean()"
   ]
  },
  {
   "cell_type": "markdown",
   "metadata": {},
   "source": [
    "**Example 3:** Predict housing price using the Boston housing dataset (file: ./data/boston_housing.csv). Implement the following things:\n",
    "\n",
    "Prerequisite: pip install graphviz\n",
    "\n",
    "1. Visualize the housing price. What is the lowest, highest and average price?  \n",
    "2. Divide the data into train test by 80:20 ratio, predictors and response.\n",
    "3. Construct (on train dataset) and evaluate (on test dataset) the following regression model: Linear Regression (Reg).\n",
    "\n",
    "Ref:  \n",
    "\n",
    "The Boston Housing Dataset  \n",
    "https://www.cs.toronto.edu/~delve/data/boston/bostonDetail.html"
   ]
  },
  {
   "cell_type": "code",
   "execution_count": 4,
   "metadata": {},
   "outputs": [
    {
     "data": {
      "text/html": [
       "<div>\n",
       "<style scoped>\n",
       "    .dataframe tbody tr th:only-of-type {\n",
       "        vertical-align: middle;\n",
       "    }\n",
       "\n",
       "    .dataframe tbody tr th {\n",
       "        vertical-align: top;\n",
       "    }\n",
       "\n",
       "    .dataframe thead th {\n",
       "        text-align: right;\n",
       "    }\n",
       "</style>\n",
       "<table border=\"1\" class=\"dataframe\">\n",
       "  <thead>\n",
       "    <tr style=\"text-align: right;\">\n",
       "      <th></th>\n",
       "      <th>crim</th>\n",
       "      <th>zn</th>\n",
       "      <th>indus</th>\n",
       "      <th>chas</th>\n",
       "      <th>nox</th>\n",
       "      <th>rm</th>\n",
       "      <th>age</th>\n",
       "      <th>dis</th>\n",
       "      <th>rad</th>\n",
       "      <th>tax</th>\n",
       "      <th>ptratio</th>\n",
       "      <th>black</th>\n",
       "      <th>lstat</th>\n",
       "      <th>medv</th>\n",
       "    </tr>\n",
       "    <tr>\n",
       "      <th>ID</th>\n",
       "      <th></th>\n",
       "      <th></th>\n",
       "      <th></th>\n",
       "      <th></th>\n",
       "      <th></th>\n",
       "      <th></th>\n",
       "      <th></th>\n",
       "      <th></th>\n",
       "      <th></th>\n",
       "      <th></th>\n",
       "      <th></th>\n",
       "      <th></th>\n",
       "      <th></th>\n",
       "      <th></th>\n",
       "    </tr>\n",
       "  </thead>\n",
       "  <tbody>\n",
       "    <tr>\n",
       "      <th>1</th>\n",
       "      <td>0.00632</td>\n",
       "      <td>18.0</td>\n",
       "      <td>2.31</td>\n",
       "      <td>0</td>\n",
       "      <td>0.538</td>\n",
       "      <td>6.575</td>\n",
       "      <td>65.2</td>\n",
       "      <td>4.0900</td>\n",
       "      <td>1</td>\n",
       "      <td>296</td>\n",
       "      <td>15.3</td>\n",
       "      <td>396.90</td>\n",
       "      <td>4.98</td>\n",
       "      <td>24.0</td>\n",
       "    </tr>\n",
       "    <tr>\n",
       "      <th>2</th>\n",
       "      <td>0.02731</td>\n",
       "      <td>0.0</td>\n",
       "      <td>7.07</td>\n",
       "      <td>0</td>\n",
       "      <td>0.469</td>\n",
       "      <td>6.421</td>\n",
       "      <td>78.9</td>\n",
       "      <td>4.9671</td>\n",
       "      <td>2</td>\n",
       "      <td>242</td>\n",
       "      <td>17.8</td>\n",
       "      <td>396.90</td>\n",
       "      <td>9.14</td>\n",
       "      <td>21.6</td>\n",
       "    </tr>\n",
       "    <tr>\n",
       "      <th>4</th>\n",
       "      <td>0.03237</td>\n",
       "      <td>0.0</td>\n",
       "      <td>2.18</td>\n",
       "      <td>0</td>\n",
       "      <td>0.458</td>\n",
       "      <td>6.998</td>\n",
       "      <td>45.8</td>\n",
       "      <td>6.0622</td>\n",
       "      <td>3</td>\n",
       "      <td>222</td>\n",
       "      <td>18.7</td>\n",
       "      <td>394.63</td>\n",
       "      <td>2.94</td>\n",
       "      <td>33.4</td>\n",
       "    </tr>\n",
       "    <tr>\n",
       "      <th>5</th>\n",
       "      <td>0.06905</td>\n",
       "      <td>0.0</td>\n",
       "      <td>2.18</td>\n",
       "      <td>0</td>\n",
       "      <td>0.458</td>\n",
       "      <td>7.147</td>\n",
       "      <td>54.2</td>\n",
       "      <td>6.0622</td>\n",
       "      <td>3</td>\n",
       "      <td>222</td>\n",
       "      <td>18.7</td>\n",
       "      <td>396.90</td>\n",
       "      <td>5.33</td>\n",
       "      <td>36.2</td>\n",
       "    </tr>\n",
       "    <tr>\n",
       "      <th>7</th>\n",
       "      <td>0.08829</td>\n",
       "      <td>12.5</td>\n",
       "      <td>7.87</td>\n",
       "      <td>0</td>\n",
       "      <td>0.524</td>\n",
       "      <td>6.012</td>\n",
       "      <td>66.6</td>\n",
       "      <td>5.5605</td>\n",
       "      <td>5</td>\n",
       "      <td>311</td>\n",
       "      <td>15.2</td>\n",
       "      <td>395.60</td>\n",
       "      <td>12.43</td>\n",
       "      <td>22.9</td>\n",
       "    </tr>\n",
       "  </tbody>\n",
       "</table>\n",
       "</div>"
      ],
      "text/plain": [
       "       crim    zn  indus  chas    nox     rm   age     dis  rad  tax  ptratio  \\\n",
       "ID                                                                              \n",
       "1   0.00632  18.0   2.31     0  0.538  6.575  65.2  4.0900    1  296     15.3   \n",
       "2   0.02731   0.0   7.07     0  0.469  6.421  78.9  4.9671    2  242     17.8   \n",
       "4   0.03237   0.0   2.18     0  0.458  6.998  45.8  6.0622    3  222     18.7   \n",
       "5   0.06905   0.0   2.18     0  0.458  7.147  54.2  6.0622    3  222     18.7   \n",
       "7   0.08829  12.5   7.87     0  0.524  6.012  66.6  5.5605    5  311     15.2   \n",
       "\n",
       "     black  lstat  medv  \n",
       "ID                       \n",
       "1   396.90   4.98  24.0  \n",
       "2   396.90   9.14  21.6  \n",
       "4   394.63   2.94  33.4  \n",
       "5   396.90   5.33  36.2  \n",
       "7   395.60  12.43  22.9  "
      ]
     },
     "execution_count": 4,
     "metadata": {},
     "output_type": "execute_result"
    }
   ],
   "source": [
    "# Read the data\n",
    "housing = pd.read_csv('./data/boston_housing.csv', index_col=['ID'])\n",
    "housing.head()"
   ]
  },
  {
   "cell_type": "markdown",
   "metadata": {},
   "source": [
    "**1.** Visualize the housing price. What is the lowest, highest and average price?"
   ]
  },
  {
   "cell_type": "code",
   "execution_count": 159,
   "metadata": {},
   "outputs": [
    {
     "data": {
      "image/png": "[encoded data removed]",
      "text/plain": [
       "<Figure size 432x288 with 1 Axes>"
      ]
     },
     "metadata": {
      "needs_background": "light"
     },
     "output_type": "display_data"
    }
   ],
   "source": [
    "# Plot the histogram of housing price\n",
    "plt.hist(housing['medv'], bins=20)\n",
    "plt.xlabel('Housing price in \\$1,000')\n",
    "plt.ylabel('Frequency')\n",
    "plt.show()"
   ]
  },
  {
   "cell_type": "code",
   "execution_count": 160,
   "metadata": {},
   "outputs": [
    {
     "name": "stdout",
     "output_type": "stream",
     "text": [
      "50.0\n",
      "5.0\n"
     ]
    }
   ],
   "source": [
    "# Highest and lowest housing price\n",
    "print(housing['medv'].max())\n",
    "print(housing['medv'].min())"
   ]
  },
  {
   "cell_type": "markdown",
   "metadata": {},
   "source": [
    "**2.** Divide the data into train test by 80:20 ratio."
   ]
  },
  {
   "cell_type": "code",
   "execution_count": 39,
   "metadata": {},
   "outputs": [],
   "source": [
    "# Create train and test data\n",
    "train_idx = int(housing.shape[0] * 0.8)\n",
    "train_housing = housing[:train_idx]\n",
    "test_housing = housing[train_idx:]\n",
    "\n",
    "# Divide data into predictors and response\n",
    "X_train = train_housing.iloc[:, :-1]  # Train predictors\n",
    "y_train = np.log(train_housing.iloc[:, -1:])  # Train response, log transform\n",
    "\n",
    "X_test = test_housing.iloc[:, :-1]  # Test predictors\n",
    "y_test = np.log(test_housing.iloc[:, -1:])  # Test response, log transform"
   ]
  },
  {
   "cell_type": "markdown",
   "metadata": {},
   "source": [
    "**3.** Construct (on train dataset) and evaluate (on test dataset) the following regression model: Linear Regression (Reg)."
   ]
  },
  {
   "cell_type": "code",
   "execution_count": 28,
   "metadata": {},
   "outputs": [
    {
     "data": {
      "text/plain": [
       "LinearRegression(copy_X=True, fit_intercept=True, n_jobs=None,\n",
       "         normalize=False)"
      ]
     },
     "execution_count": 28,
     "metadata": {},
     "output_type": "execute_result"
    }
   ],
   "source": [
    "# Load the model from sklearn\n",
    "from sklearn.linear_model import LinearRegression  # Linear Regression\n",
    "from sklearn.metrics import r2_score  # Evaluation metrics\n",
    "\n",
    "# Set up the model\n",
    "reg_md = LinearRegression()\n",
    "\n",
    "# Fit a linear regression model\n",
    "reg_md.fit(X_train, y_train)"
   ]
  },
  {
   "cell_type": "code",
   "execution_count": 29,
   "metadata": {},
   "outputs": [
    {
     "name": "stdout",
     "output_type": "stream",
     "text": [
      "[3.79988638]\n",
      "                0\n",
      "crim    -0.031263\n",
      "zn       0.001506\n",
      "indus    0.002798\n",
      "chas     0.090977\n",
      "nox     -0.584850\n",
      "rm       0.139061\n",
      "age     -0.000929\n",
      "dis     -0.056174\n",
      "rad      0.027966\n",
      "tax     -0.000618\n",
      "ptratio -0.029249\n",
      "black   -0.000327\n",
      "lstat   -0.023819\n"
     ]
    }
   ],
   "source": [
    "# Print out the model\n",
    "print(reg_md.intercept_)\n",
    "print(pd.DataFrame(reg_md.coef_[0], index=X_train.columns))"
   ]
  },
  {
   "cell_type": "code",
   "execution_count": 30,
   "metadata": {},
   "outputs": [],
   "source": [
    "# Make prediction on test\n",
    "y_pred_reg = reg_md.predict(X_test)"
   ]
  },
  {
   "cell_type": "code",
   "execution_count": 31,
   "metadata": {},
   "outputs": [
    {
     "data": {
      "text/plain": [
       "-0.33107774156318537"
      ]
     },
     "execution_count": 31,
     "metadata": {},
     "output_type": "execute_result"
    }
   ],
   "source": [
    "# Evaluation the model with R-squared metric\n",
    "r2_score(y_test, y_pred_reg)"
   ]
  },
  {
   "cell_type": "code",
   "execution_count": 32,
   "metadata": {},
   "outputs": [
    {
     "data": {
      "image/png": "[encoded data removed]",
      "text/plain": [
       "<Figure size 720x648 with 1 Axes>"
      ]
     },
     "metadata": {
      "needs_background": "light"
     },
     "output_type": "display_data"
    }
   ],
   "source": [
    "# Plot the true values vs. predicted values\n",
    "\n",
    "# Increase the size of the plot\n",
    "fig, ax = plt.subplots()\n",
    "fig.set_size_inches(10, 9, forward=True)\n",
    "\n",
    "# Plot the data point from test dataset\n",
    "plt.scatter(X_test['crim'], y_test)\n",
    "plt.xlabel('Crime Rate')\n",
    "plt.ylabel('Housing Price')\n",
    "\n",
    "# Plot the predicted values\n",
    "x_reg = X_test['crim']\n",
    "y_reg = reg_md.predict(X_test)\n",
    "plt.scatter(x_reg, y_reg, color='red')\n",
    "\n",
    "plt.show()"
   ]
  },
  {
   "cell_type": "markdown",
   "metadata": {},
   "source": [
    "**2.2. k-Nearest Neighbors (kNN)**"
   ]
  },
  {
   "cell_type": "markdown",
   "metadata": {},
   "source": [
    "**Example 4:** Using the preprocessed data in Example 3, construct (on train dataset) and evaluate (on test dataset) the following regression model: k-Nearest Neighbors (kNN)."
   ]
  },
  {
   "cell_type": "code",
   "execution_count": 33,
   "metadata": {},
   "outputs": [
    {
     "data": {
      "text/plain": [
       "KNeighborsRegressor(algorithm='auto', leaf_size=30, metric='minkowski',\n",
       "          metric_params=None, n_jobs=None, n_neighbors=10, p=2,\n",
       "          weights='uniform')"
      ]
     },
     "execution_count": 33,
     "metadata": {},
     "output_type": "execute_result"
    }
   ],
   "source": [
    "# Load the model from sklearn\n",
    "from sklearn.neighbors import KNeighborsRegressor  # k-Nearest Neighbors\n",
    "from sklearn.metrics import r2_score  # Evaluation metrics\n",
    "\n",
    "# Set up the model\n",
    "knn_md = KNeighborsRegressor(n_neighbors=10)\n",
    "\n",
    "# Fit a k-nearest neighbors model\n",
    "knn_md.fit(X_train, y_train)"
   ]
  },
  {
   "cell_type": "code",
   "execution_count": 34,
   "metadata": {},
   "outputs": [],
   "source": [
    "# Make prediction on test\n",
    "y_pred_knn = knn_md.predict(X_test)"
   ]
  },
  {
   "cell_type": "code",
   "execution_count": 35,
   "metadata": {},
   "outputs": [
    {
     "data": {
      "text/plain": [
       "-1.238854557418846"
      ]
     },
     "execution_count": 35,
     "metadata": {},
     "output_type": "execute_result"
    }
   ],
   "source": [
    "# Evaluation the model with R-squared metric\n",
    "r2_score(y_test, y_pred_knn)"
   ]
  },
  {
   "cell_type": "code",
   "execution_count": 386,
   "metadata": {},
   "outputs": [
    {
     "data": {
      "image/png": "[encoded data removed]",
      "text/plain": [
       "<Figure size 720x648 with 1 Axes>"
      ]
     },
     "metadata": {
      "needs_background": "light"
     },
     "output_type": "display_data"
    }
   ],
   "source": [
    "# Plot the true values vs. predicted values\n",
    "\n",
    "# Increase the size of the plot\n",
    "fig, ax = plt.subplots()\n",
    "fig.set_size_inches(10, 9, forward=True)\n",
    "\n",
    "# Plot the data point from test dataset\n",
    "plt.scatter(X_test['crim'], y_test)\n",
    "plt.xlabel('Crime Rate')\n",
    "plt.ylabel('Housing Price')\n",
    "\n",
    "# Plot the predicted values\n",
    "x_knn = X_test['crim']\n",
    "y_knn = knn_md.predict(X_test)\n",
    "plt.scatter(x_knn, y_knn, color='red')\n",
    "\n",
    "plt.show()"
   ]
  },
  {
   "cell_type": "markdown",
   "metadata": {},
   "source": [
    "**2.3. Decision Tree (DT)**"
   ]
  },
  {
   "cell_type": "markdown",
   "metadata": {},
   "source": [
    "**Example 5:** Using the preprocessed data in Example 3, construct (on train dataset) and evaluate (on test dataset) the following regression model: Decision Tree (DT)."
   ]
  },
  {
   "cell_type": "code",
   "execution_count": 36,
   "metadata": {},
   "outputs": [
    {
     "data": {
      "text/plain": [
       "DecisionTreeRegressor(criterion='mse', max_depth=None, max_features=None,\n",
       "           max_leaf_nodes=None, min_impurity_decrease=0.0,\n",
       "           min_impurity_split=None, min_samples_leaf=1,\n",
       "           min_samples_split=2, min_weight_fraction_leaf=0.0,\n",
       "           presort=False, random_state=None, splitter='best')"
      ]
     },
     "execution_count": 36,
     "metadata": {},
     "output_type": "execute_result"
    }
   ],
   "source": [
    "# Load the model from sklearn\n",
    "from sklearn.tree import DecisionTreeRegressor  # Decision Tree\n",
    "from sklearn.metrics import r2_score  # Evaluation metrics\n",
    "\n",
    "# Set up the model\n",
    "dt_md = DecisionTreeRegressor()\n",
    "\n",
    "# Fit a decision tree model\n",
    "dt_md.fit(X_train, y_train)"
   ]
  },
  {
   "cell_type": "code",
   "execution_count": 12,
   "metadata": {},
   "outputs": [
    {
     "name": "stdout",
     "output_type": "stream",
     "text": [
      "                    0\n",
      "crim     9.486351e-02\n",
      "zn       2.217724e-07\n",
      "indus    4.227519e-03\n",
      "chas     0.000000e+00\n",
      "nox      5.724691e-03\n",
      "rm       6.078632e-01\n",
      "age      1.066177e-02\n",
      "dis      7.936111e-03\n",
      "rad      9.501661e-03\n",
      "tax      3.473279e-02\n",
      "ptratio  7.461325e-03\n",
      "black    7.644696e-03\n",
      "lstat    2.093825e-01\n"
     ]
    }
   ],
   "source": [
    "# Print out the model\n",
    "print(pd.DataFrame(dt_md.feature_importances_, index=X_train.columns))"
   ]
  },
  {
   "cell_type": "code",
   "execution_count": 13,
   "metadata": {},
   "outputs": [],
   "source": [
    "# This function print out the decision tree in an interpretable way\n",
    "# Source: NirIzr, https://stackoverflow.com/questions/20224526/how-to-extract-the-decision-rules-from-scikit-learn-decision-tree\n",
    "\n",
    "from sklearn.tree import _tree\n",
    "\n",
    "def tree_to_code(tree, feature_names):\n",
    "    tree_ = tree.tree_\n",
    "    feature_name = [\n",
    "        feature_names[i] if i != _tree.TREE_UNDEFINED else \"undefined!\"\n",
    "        for i in tree_.feature\n",
    "    ]\n",
    "    print(\"def tree({}):\".format(\", \".join(feature_names)))\n",
    "\n",
    "    def recurse(node, depth):\n",
    "        indent = \"  \" * depth\n",
    "        if tree_.feature[node] != _tree.TREE_UNDEFINED:\n",
    "            name = feature_name[node]\n",
    "            threshold = tree_.threshold[node]\n",
    "            print(\"{}if {} <= {}:\".format(indent, name, threshold))\n",
    "            recurse(tree_.children_left[node], depth + 1)\n",
    "            print(\"{}else:  # if {} > {}\".format(indent, name, threshold))\n",
    "            recurse(tree_.children_right[node], depth + 1)\n",
    "        else:\n",
    "            print(\"{}return {}\".format(indent, tree_.value[node]))\n",
    "\n",
    "    recurse(0, 1)"
   ]
  },
  {
   "cell_type": "code",
   "execution_count": 338,
   "metadata": {},
   "outputs": [
    {
     "name": "stdout",
     "output_type": "stream",
     "text": [
      "def tree(crim, zn, indus, chas, nox, rm, age, dis, rad, tax, ptratio, black, lstat):\n",
      "  if tax <= 232.0:\n",
      "    if lstat <= 4.134999990463257:\n",
      "      return [[33.4]]\n",
      "    else:  # if lstat > 4.134999990463257\n",
      "      return [[36.2]]\n",
      "  else:  # if tax > 232.0\n",
      "    if age <= 80.9000015258789:\n",
      "      if crim <= 0.3605850152671337:\n",
      "        if crim <= 0.016815000446513295:\n",
      "          return [[24.]]\n",
      "        else:  # if crim > 0.016815000446513295\n",
      "          if dis <= 5.50570011138916:\n",
      "            if dis <= 5.209000110626221:\n",
      "              return [[21.6]]\n",
      "            else:  # if dis > 5.209000110626221\n",
      "              return [[21.7]]\n",
      "          else:  # if dis > 5.50570011138916\n",
      "            return [[22.9]]\n",
      "      else:  # if crim > 0.3605850152671337\n",
      "        if lstat <= 8.365000247955322:\n",
      "          return [[20.4]]\n",
      "        else:  # if lstat > 8.365000247955322\n",
      "          return [[19.9]]\n",
      "    else:  # if age > 80.9000015258789\n",
      "      if dis <= 6.286700010299683:\n",
      "        if black <= 388.4599914550781:\n",
      "          return [[18.2]]\n",
      "        else:  # if black > 388.4599914550781\n",
      "          return [[18.9]]\n",
      "      else:  # if dis > 6.286700010299683\n",
      "        return [[15.]]\n"
     ]
    }
   ],
   "source": [
    "# Print the decision tree\n",
    "tree_to_code(dt_md, X_train.columns)"
   ]
  },
  {
   "cell_type": "code",
   "execution_count": 339,
   "metadata": {},
   "outputs": [],
   "source": [
    "# Visualize the decision tree\n",
    "\n",
    "# Export the decision rules to dot file\n",
    "from sklearn import tree\n",
    "import graphviz \n",
    "dot_data = tree.export_graphviz(dt_md, \n",
    "                                feature_names=X_train.columns,\n",
    "                                out_file='reg_tree.dot') \n",
    "\n",
    "# Visualize using WebGraphviz\n",
    "# Link: http://webgraphviz.com/"
   ]
  },
  {
   "cell_type": "code",
   "execution_count": 37,
   "metadata": {},
   "outputs": [],
   "source": [
    "# Make prediction on test\n",
    "y_pred_dt = dt_md.predict(X_test)"
   ]
  },
  {
   "cell_type": "code",
   "execution_count": 38,
   "metadata": {},
   "outputs": [
    {
     "data": {
      "text/plain": [
       "0.2915667567429949"
      ]
     },
     "execution_count": 38,
     "metadata": {},
     "output_type": "execute_result"
    }
   ],
   "source": [
    "# Evaluation the model with R-squared metric\n",
    "r2_score(y_test, y_pred_dt)"
   ]
  },
  {
   "cell_type": "code",
   "execution_count": 387,
   "metadata": {},
   "outputs": [
    {
     "data": {
      "image/png": "[encoded data removed]",
      "text/plain": [
       "<Figure size 720x648 with 1 Axes>"
      ]
     },
     "metadata": {
      "needs_background": "light"
     },
     "output_type": "display_data"
    }
   ],
   "source": [
    "# Plot the true values vs. predicted values\n",
    "\n",
    "# Increase the size of the plot\n",
    "fig, ax = plt.subplots()\n",
    "fig.set_size_inches(10, 9, forward=True)\n",
    "\n",
    "# Plot the data point from test dataset\n",
    "plt.scatter(X_test['crim'], y_test)\n",
    "plt.xlabel('Crime Rate')\n",
    "plt.ylabel('Housing Price')\n",
    "\n",
    "# Plot the predicted values\n",
    "x_dt = X_test['crim']\n",
    "y_dt = dt_md.predict(X_test)\n",
    "plt.scatter(x_dt, y_dt, color='red')\n",
    "\n",
    "plt.show()"
   ]
  },
  {
   "cell_type": "markdown",
   "metadata": {},
   "source": [
    "**2.4. Random Forest (RF)**"
   ]
  },
  {
   "cell_type": "markdown",
   "metadata": {},
   "source": [
    "**Example 6:** Using the preprocessed data in Example 3, construct (on train dataset) and evaluate (on test dataset) the following regression model: Random Forest (RF)."
   ]
  },
  {
   "cell_type": "code",
   "execution_count": 17,
   "metadata": {},
   "outputs": [
    {
     "data": {
      "text/plain": [
       "RandomForestRegressor(bootstrap=True, criterion='mse', max_depth=10,\n",
       "           max_features='auto', max_leaf_nodes=None,\n",
       "           min_impurity_decrease=0.0, min_impurity_split=None,\n",
       "           min_samples_leaf=1, min_samples_split=2,\n",
       "           min_weight_fraction_leaf=0.0, n_estimators=10, n_jobs=None,\n",
       "           oob_score=False, random_state=123, verbose=0, warm_start=False)"
      ]
     },
     "execution_count": 17,
     "metadata": {},
     "output_type": "execute_result"
    }
   ],
   "source": [
    "# Load the model from sklearn\n",
    "from sklearn.ensemble import RandomForestRegressor  # Random Forest\n",
    "from sklearn.metrics import r2_score  # Evaluation metrics\n",
    "\n",
    "# Set up the model\n",
    "rf_md = RandomForestRegressor(n_estimators=10, max_depth=10, random_state=123)\n",
    "\n",
    "# Fit a random forest model\n",
    "rf_md.fit(X_train, y_train.values[:, 0])"
   ]
  },
  {
   "cell_type": "code",
   "execution_count": 18,
   "metadata": {},
   "outputs": [
    {
     "name": "stdout",
     "output_type": "stream",
     "text": [
      "                0\n",
      "crim     0.052995\n",
      "zn       0.000877\n",
      "indus    0.004942\n",
      "chas     0.000557\n",
      "nox      0.004508\n",
      "rm       0.582817\n",
      "age      0.027233\n",
      "dis      0.057147\n",
      "rad      0.005813\n",
      "tax      0.019519\n",
      "ptratio  0.011784\n",
      "black    0.006419\n",
      "lstat    0.225388\n"
     ]
    }
   ],
   "source": [
    "# Print out the model\n",
    "print(pd.DataFrame(rf_md.feature_importances_, index=X_train.columns))"
   ]
  },
  {
   "cell_type": "code",
   "execution_count": 19,
   "metadata": {},
   "outputs": [],
   "source": [
    "# Make prediction on test\n",
    "y_pred_rf = rf_md.predict(X_test)"
   ]
  },
  {
   "cell_type": "code",
   "execution_count": 20,
   "metadata": {},
   "outputs": [
    {
     "data": {
      "text/plain": [
       "-0.19048702707649023"
      ]
     },
     "execution_count": 20,
     "metadata": {},
     "output_type": "execute_result"
    }
   ],
   "source": [
    "# Evaluation the model with R-squared metric\n",
    "r2_score(y_test, y_pred_rf)"
   ]
  },
  {
   "cell_type": "code",
   "execution_count": 22,
   "metadata": {},
   "outputs": [
    {
     "data": {
      "image/png": "[encoded data removed]",
      "text/plain": [
       "<Figure size 720x648 with 1 Axes>"
      ]
     },
     "metadata": {
      "needs_background": "light"
     },
     "output_type": "display_data"
    }
   ],
   "source": [
    "# Plot the true values vs. predicted values\n",
    "\n",
    "# Increase the size of the plot\n",
    "fig, ax = plt.subplots()\n",
    "fig.set_size_inches(10, 9, forward=True)\n",
    "\n",
    "# Plot the data point from test dataset\n",
    "plt.scatter(X_test['crim'], y_test)\n",
    "plt.xlabel('Crime Rate')\n",
    "plt.ylabel('Housing Price')\n",
    "\n",
    "# Plot the predicted values\n",
    "x_rf = X_test['crim']\n",
    "y_rf = rf_md.predict(X_test)\n",
    "plt.scatter(x_rf, y_rf, color='red')\n",
    "\n",
    "plt.show()"
   ]
  },
  {
   "cell_type": "markdown",
   "metadata": {},
   "source": [
    "**2.5. Boosting Tree (Boost)**"
   ]
  },
  {
   "cell_type": "markdown",
   "metadata": {},
   "source": [
    "**Example 7:** Using the preprocessed data in Example 3, construct (on train dataset) and evaluate (on test dataset) the following regression model: Boosting Tree (Boost)."
   ]
  },
  {
   "cell_type": "code",
   "execution_count": 23,
   "metadata": {},
   "outputs": [
    {
     "data": {
      "text/plain": [
       "AdaBoostRegressor(base_estimator=None, learning_rate=1.0, loss='linear',\n",
       "         n_estimators=10, random_state=123)"
      ]
     },
     "execution_count": 23,
     "metadata": {},
     "output_type": "execute_result"
    }
   ],
   "source": [
    "# Load the model from sklearn\n",
    "from sklearn.ensemble import AdaBoostRegressor  # Boosting Tree\n",
    "from sklearn.metrics import r2_score  # Evaluation metrics\n",
    "\n",
    "# Set up the model\n",
    "boost_md = AdaBoostRegressor(n_estimators=10, random_state=123)\n",
    "\n",
    "# Fit a boosting tree model\n",
    "boost_md.fit(X_train, y_train.values[:, 0])"
   ]
  },
  {
   "cell_type": "code",
   "execution_count": 24,
   "metadata": {},
   "outputs": [
    {
     "name": "stdout",
     "output_type": "stream",
     "text": [
      "                0\n",
      "crim     0.025216\n",
      "zn       0.000000\n",
      "indus    0.000000\n",
      "chas     0.000000\n",
      "nox      0.030456\n",
      "rm       0.442194\n",
      "age      0.002327\n",
      "dis      0.138029\n",
      "rad      0.001858\n",
      "tax      0.034654\n",
      "ptratio  0.008416\n",
      "black    0.004939\n",
      "lstat    0.311912\n"
     ]
    }
   ],
   "source": [
    "# Print out the model\n",
    "print(pd.DataFrame(boost_md.feature_importances_, index=X_train.columns))"
   ]
  },
  {
   "cell_type": "code",
   "execution_count": 25,
   "metadata": {},
   "outputs": [],
   "source": [
    "# Make prediction on test\n",
    "y_pred_boost = boost_md.predict(X_test)"
   ]
  },
  {
   "cell_type": "code",
   "execution_count": 26,
   "metadata": {},
   "outputs": [
    {
     "data": {
      "text/plain": [
       "-0.018922373346877297"
      ]
     },
     "execution_count": 26,
     "metadata": {},
     "output_type": "execute_result"
    }
   ],
   "source": [
    "# Evaluation the model with R-squared metric\n",
    "r2_score(y_test, y_pred_boost)"
   ]
  },
  {
   "cell_type": "code",
   "execution_count": 389,
   "metadata": {},
   "outputs": [
    {
     "data": {
      "image/png": "[encoded data removed]",
      "text/plain": [
       "<Figure size 720x648 with 1 Axes>"
      ]
     },
     "metadata": {
      "needs_background": "light"
     },
     "output_type": "display_data"
    }
   ],
   "source": [
    "# Plot the true values vs. predicted values\n",
    "\n",
    "# Increase the size of the plot\n",
    "fig, ax = plt.subplots()\n",
    "fig.set_size_inches(10, 9, forward=True)\n",
    "\n",
    "# Plot the data point from test dataset\n",
    "plt.scatter(X_test['crim'], y_test)\n",
    "plt.xlabel('Crime Rate')\n",
    "plt.ylabel('Housing Price')\n",
    "\n",
    "# Plot the predicted values\n",
    "x_boost = X_test['crim']\n",
    "y_boost = rf_md.predict(X_test)\n",
    "plt.scatter(x_boost, y_boost, color='red')\n",
    "\n",
    "plt.show()"
   ]
  },
  {
   "cell_type": "markdown",
   "metadata": {},
   "source": [
    "## Part 3: Supervised Machine Learning with Python - Classification"
   ]
  },
  {
   "cell_type": "markdown",
   "metadata": {},
   "source": [
    "![classification_model](./img/classification.png)\n",
    "\n",
    "1. Logistic Regression (LR)\n",
    "2. k-Nearest Neighbors (kNN)\n",
    "3. Decision Tree (DT)\n",
    "4. Random Forest (RF)\n",
    "5. Boosting Tree (Boost)"
   ]
  },
  {
   "cell_type": "markdown",
   "metadata": {},
   "source": [
    "**Example 8:** Stock performance data (file: ./data/key_stats_acc_perf_WITH_NA.csv). Explore and process data as follows:\n",
    "\n",
    "Explore data:\n",
    "\n",
    "1. How many stocks are there in the data?\n",
    "2. What is the date range?\n",
    "3. Which columns have missing values?\n",
    "4. How many times the stocks were underperform and overperform?\n",
    "5. Which stock had most overperform times? Which stock had most underperform times?\n",
    "\n",
    "Processing data:\n",
    "\n",
    "6. Drop unnecessary and bias columns:  Date, Unix, Ticker, stock_p_change, Difference, Price, SP500, sp500_p_change\n",
    "7. Fill missing values by mean of the column.\n",
    "8. Divide data into predictors and responses.\n",
    "\n",
    "Ref:\n",
    "\n",
    "Learning and Testing our Machine learning algorithm  \n",
    "https://pythonprogramming.net/learning-and-testing-svm/"
   ]
  },
  {
   "cell_type": "code",
   "execution_count": 455,
   "metadata": {
    "scrolled": false
   },
   "outputs": [
    {
     "data": {
      "text/html": [
       "<div>\n",
       "<style scoped>\n",
       "    .dataframe tbody tr th:only-of-type {\n",
       "        vertical-align: middle;\n",
       "    }\n",
       "\n",
       "    .dataframe tbody tr th {\n",
       "        vertical-align: top;\n",
       "    }\n",
       "\n",
       "    .dataframe thead th {\n",
       "        text-align: right;\n",
       "    }\n",
       "</style>\n",
       "<table border=\"1\" class=\"dataframe\">\n",
       "  <thead>\n",
       "    <tr style=\"text-align: right;\">\n",
       "      <th></th>\n",
       "      <th>Date</th>\n",
       "      <th>Unix</th>\n",
       "      <th>Ticker</th>\n",
       "      <th>Price</th>\n",
       "      <th>stock_p_change</th>\n",
       "      <th>SP500</th>\n",
       "      <th>sp500_p_change</th>\n",
       "      <th>Difference</th>\n",
       "      <th>DE Ratio</th>\n",
       "      <th>Trailing P/E</th>\n",
       "      <th>...</th>\n",
       "      <th>Book Value Per Share</th>\n",
       "      <th>Cash Flow</th>\n",
       "      <th>Beta</th>\n",
       "      <th>Held by Insiders</th>\n",
       "      <th>Held by Institutions</th>\n",
       "      <th>Shares Short (as of</th>\n",
       "      <th>Short Ratio</th>\n",
       "      <th>Short % of Float</th>\n",
       "      <th>Shares Short (prior</th>\n",
       "      <th>Status</th>\n",
       "    </tr>\n",
       "  </thead>\n",
       "  <tbody>\n",
       "    <tr>\n",
       "      <th>0</th>\n",
       "      <td>2004-01-30 19:01:02</td>\n",
       "      <td>1.075518e+09</td>\n",
       "      <td>a</td>\n",
       "      <td>24.73</td>\n",
       "      <td>-40.32</td>\n",
       "      <td>1131.13</td>\n",
       "      <td>3.80</td>\n",
       "      <td>-44.12</td>\n",
       "      <td>0.407</td>\n",
       "      <td>NaN</td>\n",
       "      <td>...</td>\n",
       "      <td>5.930</td>\n",
       "      <td>144000000.0</td>\n",
       "      <td>2.474</td>\n",
       "      <td>10.01</td>\n",
       "      <td>63.03</td>\n",
       "      <td>9300000.0</td>\n",
       "      <td>3.923</td>\n",
       "      <td>2.17</td>\n",
       "      <td>6930000.0</td>\n",
       "      <td>underperform</td>\n",
       "    </tr>\n",
       "    <tr>\n",
       "      <th>1</th>\n",
       "      <td>2004-04-13 04:07:11</td>\n",
       "      <td>1.081854e+09</td>\n",
       "      <td>a</td>\n",
       "      <td>20.80</td>\n",
       "      <td>-32.88</td>\n",
       "      <td>1129.44</td>\n",
       "      <td>3.93</td>\n",
       "      <td>-36.81</td>\n",
       "      <td>0.375</td>\n",
       "      <td>NaN</td>\n",
       "      <td>...</td>\n",
       "      <td>6.394</td>\n",
       "      <td>144000000.0</td>\n",
       "      <td>2.496</td>\n",
       "      <td>10.00</td>\n",
       "      <td>66.79</td>\n",
       "      <td>7520000.0</td>\n",
       "      <td>2.328</td>\n",
       "      <td>1.74</td>\n",
       "      <td>9170000.0</td>\n",
       "      <td>underperform</td>\n",
       "    </tr>\n",
       "    <tr>\n",
       "      <th>2</th>\n",
       "      <td>2004-12-13 21:37:34</td>\n",
       "      <td>1.103003e+09</td>\n",
       "      <td>a</td>\n",
       "      <td>15.99</td>\n",
       "      <td>50.97</td>\n",
       "      <td>1198.68</td>\n",
       "      <td>5.74</td>\n",
       "      <td>45.23</td>\n",
       "      <td>0.323</td>\n",
       "      <td>33.58</td>\n",
       "      <td>...</td>\n",
       "      <td>7.320</td>\n",
       "      <td>483000000.0</td>\n",
       "      <td>2.547</td>\n",
       "      <td>20.00</td>\n",
       "      <td>66.68</td>\n",
       "      <td>6930000.0</td>\n",
       "      <td>2.638</td>\n",
       "      <td>1.78</td>\n",
       "      <td>6540000.0</td>\n",
       "      <td>outperform</td>\n",
       "    </tr>\n",
       "    <tr>\n",
       "      <th>3</th>\n",
       "      <td>2005-01-22 05:17:19</td>\n",
       "      <td>1.106400e+09</td>\n",
       "      <td>a</td>\n",
       "      <td>14.80</td>\n",
       "      <td>58.65</td>\n",
       "      <td>1184.63</td>\n",
       "      <td>8.48</td>\n",
       "      <td>50.17</td>\n",
       "      <td>0.322</td>\n",
       "      <td>30.70</td>\n",
       "      <td>...</td>\n",
       "      <td>7.329</td>\n",
       "      <td>663000000.0</td>\n",
       "      <td>2.166</td>\n",
       "      <td>10.12</td>\n",
       "      <td>67.08</td>\n",
       "      <td>7040000.0</td>\n",
       "      <td>2.385</td>\n",
       "      <td>1.60</td>\n",
       "      <td>6930000.0</td>\n",
       "      <td>outperform</td>\n",
       "    </tr>\n",
       "    <tr>\n",
       "      <th>4</th>\n",
       "      <td>2006-01-09 02:35:16</td>\n",
       "      <td>1.136803e+09</td>\n",
       "      <td>a</td>\n",
       "      <td>23.18</td>\n",
       "      <td>2.67</td>\n",
       "      <td>1290.15</td>\n",
       "      <td>9.45</td>\n",
       "      <td>-6.78</td>\n",
       "      <td>2.169</td>\n",
       "      <td>52.82</td>\n",
       "      <td>...</td>\n",
       "      <td>8.095</td>\n",
       "      <td>890000000.0</td>\n",
       "      <td>NaN</td>\n",
       "      <td>0.57</td>\n",
       "      <td>70.40</td>\n",
       "      <td>10980000.0</td>\n",
       "      <td>2.300</td>\n",
       "      <td>2.20</td>\n",
       "      <td>5840000.0</td>\n",
       "      <td>underperform</td>\n",
       "    </tr>\n",
       "  </tbody>\n",
       "</table>\n",
       "<p>5 rows × 44 columns</p>\n",
       "</div>"
      ],
      "text/plain": [
       "                  Date          Unix Ticker  Price  stock_p_change    SP500  \\\n",
       "0  2004-01-30 19:01:02  1.075518e+09      a  24.73          -40.32  1131.13   \n",
       "1  2004-04-13 04:07:11  1.081854e+09      a  20.80          -32.88  1129.44   \n",
       "2  2004-12-13 21:37:34  1.103003e+09      a  15.99           50.97  1198.68   \n",
       "3  2005-01-22 05:17:19  1.106400e+09      a  14.80           58.65  1184.63   \n",
       "4  2006-01-09 02:35:16  1.136803e+09      a  23.18            2.67  1290.15   \n",
       "\n",
       "   sp500_p_change  Difference  DE Ratio  Trailing P/E      ...       \\\n",
       "0            3.80      -44.12     0.407           NaN      ...        \n",
       "1            3.93      -36.81     0.375           NaN      ...        \n",
       "2            5.74       45.23     0.323         33.58      ...        \n",
       "3            8.48       50.17     0.322         30.70      ...        \n",
       "4            9.45       -6.78     2.169         52.82      ...        \n",
       "\n",
       "   Book Value Per Share    Cash Flow   Beta  Held by Insiders  \\\n",
       "0                 5.930  144000000.0  2.474             10.01   \n",
       "1                 6.394  144000000.0  2.496             10.00   \n",
       "2                 7.320  483000000.0  2.547             20.00   \n",
       "3                 7.329  663000000.0  2.166             10.12   \n",
       "4                 8.095  890000000.0    NaN              0.57   \n",
       "\n",
       "   Held by Institutions  Shares Short (as of  Short Ratio  Short % of Float  \\\n",
       "0                 63.03            9300000.0        3.923              2.17   \n",
       "1                 66.79            7520000.0        2.328              1.74   \n",
       "2                 66.68            6930000.0        2.638              1.78   \n",
       "3                 67.08            7040000.0        2.385              1.60   \n",
       "4                 70.40           10980000.0        2.300              2.20   \n",
       "\n",
       "   Shares Short (prior         Status  \n",
       "0             6930000.0  underperform  \n",
       "1             9170000.0  underperform  \n",
       "2             6540000.0    outperform  \n",
       "3             6930000.0    outperform  \n",
       "4             5840000.0  underperform  \n",
       "\n",
       "[5 rows x 44 columns]"
      ]
     },
     "execution_count": 455,
     "metadata": {},
     "output_type": "execute_result"
    }
   ],
   "source": [
    "# Import the data\n",
    "stock_price = pd.read_csv('./data/key_stats_acc_perf_WITH_NA.csv', index_col=0)\n",
    "stock_price.head()"
   ]
  },
  {
   "cell_type": "markdown",
   "metadata": {},
   "source": [
    "**1.** How many stocks are there in the data?"
   ]
  },
  {
   "cell_type": "code",
   "execution_count": 456,
   "metadata": {},
   "outputs": [
    {
     "data": {
      "text/plain": [
       "528"
      ]
     },
     "execution_count": 456,
     "metadata": {},
     "output_type": "execute_result"
    }
   ],
   "source": [
    "len(stock_price['Ticker'].unique())"
   ]
  },
  {
   "cell_type": "markdown",
   "metadata": {},
   "source": [
    "**2.** What is the date range?"
   ]
  },
  {
   "cell_type": "code",
   "execution_count": 458,
   "metadata": {},
   "outputs": [
    {
     "name": "stdout",
     "output_type": "stream",
     "text": [
      "2003-10-02 16:37:55\n",
      "2013-09-06 06:09:52\n"
     ]
    }
   ],
   "source": [
    "print(stock_price['Date'].min())\n",
    "print(stock_price['Date'].max())"
   ]
  },
  {
   "cell_type": "markdown",
   "metadata": {},
   "source": [
    "**3.** Which columns have missing values?"
   ]
  },
  {
   "cell_type": "code",
   "execution_count": 460,
   "metadata": {},
   "outputs": [
    {
     "data": {
      "text/plain": [
       "Date                            0\n",
       "Unix                            0\n",
       "Ticker                          0\n",
       "Price                         368\n",
       "stock_p_change                554\n",
       "SP500                           0\n",
       "sp500_p_change                  0\n",
       "Difference                    554\n",
       "DE Ratio                     1522\n",
       "Trailing P/E                  773\n",
       "Price/Sales                    48\n",
       "Price/Book                    215\n",
       "Profit Margin                  63\n",
       "Operating Margin              122\n",
       "Return on Assets              228\n",
       "Return on Equity              274\n",
       "Revenue Per Share              20\n",
       "Market Cap                     26\n",
       "Enterprise Value               65\n",
       "Forward P/E                  3732\n",
       "PEG Ratio                     399\n",
       "Enterprise Value/Revenue       83\n",
       "Enterprise Value/EBITDA       953\n",
       "Revenue                        81\n",
       "Gross Profit                  352\n",
       "EBITDA                        930\n",
       "Net Income Avl to Common        4\n",
       "Diluted EPS                    26\n",
       "Earnings Growth              1445\n",
       "Revenue Growth                194\n",
       "Total Cash                     78\n",
       "Total Cash Per Share           65\n",
       "Total Debt                    350\n",
       "Current Ratio                 926\n",
       "Book Value Per Share           41\n",
       "Cash Flow                     889\n",
       "Beta                          399\n",
       "Held by Insiders              116\n",
       "Held by Institutions           85\n",
       "Shares Short (as of           145\n",
       "Short Ratio                    56\n",
       "Short % of Float              373\n",
       "Shares Short (prior           189\n",
       "Status                          0\n",
       "dtype: int64"
      ]
     },
     "execution_count": 460,
     "metadata": {},
     "output_type": "execute_result"
    }
   ],
   "source": [
    "stock_price.isna().sum()"
   ]
  },
  {
   "cell_type": "markdown",
   "metadata": {},
   "source": [
    "**4.** How many times the stocks were underperform and overperform?"
   ]
  },
  {
   "cell_type": "code",
   "execution_count": 461,
   "metadata": {},
   "outputs": [
    {
     "data": {
      "text/plain": [
       "Status\n",
       "outperform      4795\n",
       "underperform    4236\n",
       "Name: Ticker, dtype: int64"
      ]
     },
     "execution_count": 461,
     "metadata": {},
     "output_type": "execute_result"
    }
   ],
   "source": [
    "stock_price.groupby(\"Status\")['Ticker'].agg('count')"
   ]
  },
  {
   "cell_type": "markdown",
   "metadata": {},
   "source": [
    "**5.** Which stock had most overperform times? Which stock had most underperform times?"
   ]
  },
  {
   "cell_type": "code",
   "execution_count": 473,
   "metadata": {},
   "outputs": [
    {
     "name": "stdout",
     "output_type": "stream",
     "text": [
      "Status  outperform  underperform\n",
      "Ticker                          \n",
      "xom           39.0          33.0\n",
      "Status  outperform  underperform\n",
      "Ticker                          \n",
      "ibm           11.0          41.0\n"
     ]
    }
   ],
   "source": [
    "# Using pivot table to count\n",
    "stock_pv = pd.pivot_table(stock_price, values='Beta', index='Ticker', columns='Status', aggfunc='count')\n",
    "\n",
    "print(stock_pv[stock_pv['outperform'] == stock_pv['outperform'].max()])\n",
    "print(stock_pv[stock_pv['underperform'] == stock_pv['underperform'].max()])"
   ]
  },
  {
   "cell_type": "markdown",
   "metadata": {},
   "source": [
    "**6.** Drop unnecessary and bias columns: Date, Unix, Ticker, stock_p_change, Difference, Price, SP500, sp500_p_change"
   ]
  },
  {
   "cell_type": "code",
   "execution_count": 475,
   "metadata": {},
   "outputs": [],
   "source": [
    "# Drop some unnecessary or bias variables\n",
    "drop_vars = ['Date', 'Unix', 'Ticker', 'stock_p_change', 'Difference', 'Price', 'SP500', 'sp500_p_change']\n",
    "stock_price = stock_price.drop(drop_vars, axis=1, errors='ignore')"
   ]
  },
  {
   "cell_type": "markdown",
   "metadata": {},
   "source": [
    "**7.** Fill missing values by mean of the column."
   ]
  },
  {
   "cell_type": "code",
   "execution_count": 476,
   "metadata": {},
   "outputs": [],
   "source": [
    "# Fill missing values by mean of column\n",
    "for col in stock_price.columns:\n",
    "    if np.issubdtype(stock_price[col].dtype, np.number):\n",
    "        if sum(stock_price[col].isna()) > 0:\n",
    "            stock_price[col] = stock_price[col].fillna(stock_price[col].mean())"
   ]
  },
  {
   "cell_type": "markdown",
   "metadata": {},
   "source": [
    "**8.** Divide data into predictors and responses."
   ]
  },
  {
   "cell_type": "code",
   "execution_count": 477,
   "metadata": {},
   "outputs": [],
   "source": [
    "# Predictors and response\n",
    "X = stock_price.iloc[:, :-1]  # All predictors\n",
    "y = stock_price['Status']  # Response"
   ]
  },
  {
   "cell_type": "markdown",
   "metadata": {},
   "source": [
    "**3.1. Logistic Regression (LR)**"
   ]
  },
  {
   "cell_type": "markdown",
   "metadata": {},
   "source": [
    "**Example 9:** Construct a Logistic Regression (LR) predictive model using the data in Example 8. Evaluate the model using AUC and 5-fold cross validation."
   ]
  },
  {
   "cell_type": "code",
   "execution_count": 478,
   "metadata": {},
   "outputs": [
    {
     "name": "stderr",
     "output_type": "stream",
     "text": [
      "D:\\Anaconda3\\Lib\\site-packages\\sklearn\\linear_model\\logistic.py:432: FutureWarning: Default solver will be changed to 'lbfgs' in 0.22. Specify a solver to silence this warning.\n",
      "  FutureWarning)\n"
     ]
    },
    {
     "data": {
      "text/plain": [
       "LogisticRegression(C=1.0, class_weight=None, dual=False, fit_intercept=True,\n",
       "          intercept_scaling=1, max_iter=100, multi_class='warn',\n",
       "          n_jobs=None, penalty='l2', random_state=None, solver='warn',\n",
       "          tol=0.0001, verbose=0, warm_start=False)"
      ]
     },
     "execution_count": 478,
     "metadata": {},
     "output_type": "execute_result"
    }
   ],
   "source": [
    "# Load the model from sklearn\n",
    "from sklearn.linear_model import LogisticRegression  # Logistic Regression\n",
    "from sklearn.model_selection import cross_val_score  # k-fold CV\n",
    "\n",
    "# Set up the model\n",
    "lr_clf_md = LogisticRegression()\n",
    "\n",
    "# Fit a linear regression model\n",
    "lr_clf_md.fit(X, y)"
   ]
  },
  {
   "cell_type": "code",
   "execution_count": 479,
   "metadata": {},
   "outputs": [
    {
     "name": "stdout",
     "output_type": "stream",
     "text": [
      "[-1.52747384e-15]\n",
      "                                      0\n",
      "DE Ratio                   1.885753e-14\n",
      "Trailing P/E              -4.421857e-14\n",
      "Price/Sales               -1.127035e-15\n",
      "Price/Book                -5.167172e-15\n",
      "Profit Margin             -6.283067e-15\n",
      "Operating Margin          -3.044787e-14\n",
      "Return on Assets          -4.122693e-15\n",
      "Return on Equity          -2.804475e-14\n",
      "Revenue Per Share         -5.795463e-14\n",
      "Market Cap                -1.788359e-12\n",
      "Enterprise Value           2.595589e-12\n",
      "Forward P/E               -1.896830e-14\n",
      "PEG Ratio                  1.086561e-15\n",
      "Enterprise Value/Revenue  -3.294301e-14\n",
      "Enterprise Value/EBITDA   -1.558988e-14\n",
      "Revenue                   -6.387615e-11\n",
      "Gross Profit              -1.508646e-12\n",
      "EBITDA                     1.053110e-11\n",
      "Net Income Avl to Common   5.785063e-12\n",
      "Diluted EPS               -6.547248e-15\n",
      "Earnings Growth           -1.392304e-13\n",
      "Revenue Growth            -1.300220e-13\n",
      "Total Cash                -1.705828e-13\n",
      "Total Cash Per Share      -4.723645e-11\n",
      "Total Debt                 3.519765e-14\n",
      "Current Ratio             -2.116346e-15\n",
      "Book Value Per Share      -1.974368e-14\n",
      "Cash Flow                 -1.810293e-12\n",
      "Beta                      -2.106356e-15\n",
      "Held by Insiders          -1.265171e-14\n",
      "Held by Institutions      -1.279266e-13\n",
      "Shares Short (as of       -2.586399e-10\n",
      "Short Ratio               -5.322722e-15\n",
      "Short % of Float          -3.104024e-15\n",
      "Shares Short (prior       -1.678021e-09\n"
     ]
    }
   ],
   "source": [
    "# Print out the model\n",
    "print(lr_clf_md.intercept_)\n",
    "print(pd.DataFrame(lr_clf_md.coef_[0], index=X.columns))"
   ]
  },
  {
   "cell_type": "code",
   "execution_count": 480,
   "metadata": {},
   "outputs": [
    {
     "name": "stderr",
     "output_type": "stream",
     "text": [
      "D:\\Anaconda3\\Lib\\site-packages\\sklearn\\linear_model\\logistic.py:432: FutureWarning: Default solver will be changed to 'lbfgs' in 0.22. Specify a solver to silence this warning.\n",
      "  FutureWarning)\n",
      "D:\\Anaconda3\\Lib\\site-packages\\sklearn\\linear_model\\logistic.py:432: FutureWarning: Default solver will be changed to 'lbfgs' in 0.22. Specify a solver to silence this warning.\n",
      "  FutureWarning)\n",
      "D:\\Anaconda3\\Lib\\site-packages\\sklearn\\linear_model\\logistic.py:432: FutureWarning: Default solver will be changed to 'lbfgs' in 0.22. Specify a solver to silence this warning.\n",
      "  FutureWarning)\n",
      "D:\\Anaconda3\\Lib\\site-packages\\sklearn\\linear_model\\logistic.py:432: FutureWarning: Default solver will be changed to 'lbfgs' in 0.22. Specify a solver to silence this warning.\n",
      "  FutureWarning)\n",
      "D:\\Anaconda3\\Lib\\site-packages\\sklearn\\linear_model\\logistic.py:432: FutureWarning: Default solver will be changed to 'lbfgs' in 0.22. Specify a solver to silence this warning.\n",
      "  FutureWarning)\n"
     ]
    },
    {
     "data": {
      "text/plain": [
       "0.49312359248049076"
      ]
     },
     "execution_count": 480,
     "metadata": {},
     "output_type": "execute_result"
    }
   ],
   "source": [
    "# Evaluate using cross-validation\n",
    "score = cross_val_score(lr_clf_md, X, y, cv=5, scoring='roc_auc')  # k=5\n",
    "score.mean()"
   ]
  },
  {
   "cell_type": "markdown",
   "metadata": {},
   "source": [
    "**3.2. k-Nearest Neighbors (kNN)**"
   ]
  },
  {
   "cell_type": "markdown",
   "metadata": {},
   "source": [
    "**Example 10:** Construct a k-Nearest Neighbors (kNN) predictive model using the data in Example 8. Evaluate the model using AUC and 5-fold cross validation."
   ]
  },
  {
   "cell_type": "code",
   "execution_count": 482,
   "metadata": {},
   "outputs": [
    {
     "data": {
      "text/plain": [
       "KNeighborsClassifier(algorithm='auto', leaf_size=30, metric='minkowski',\n",
       "           metric_params=None, n_jobs=None, n_neighbors=10, p=2,\n",
       "           weights='uniform')"
      ]
     },
     "execution_count": 482,
     "metadata": {},
     "output_type": "execute_result"
    }
   ],
   "source": [
    "# Load the model from sklearn\n",
    "from sklearn.neighbors import KNeighborsClassifier  # k-Nearest Neighbor\n",
    "from sklearn.model_selection import cross_val_score  # k-fold CV\n",
    "\n",
    "# Set up the model\n",
    "knn_clf_md = KNeighborsClassifier(n_neighbors=10)\n",
    "\n",
    "# Fit a linear regression model\n",
    "knn_clf_md.fit(X, y)"
   ]
  },
  {
   "cell_type": "code",
   "execution_count": 483,
   "metadata": {},
   "outputs": [
    {
     "data": {
      "text/plain": [
       "0.5241909061722417"
      ]
     },
     "execution_count": 483,
     "metadata": {},
     "output_type": "execute_result"
    }
   ],
   "source": [
    "# Evaluate using cross-validation\n",
    "score = cross_val_score(knn_clf_md, X, y, cv=5, scoring='roc_auc')  # k=5\n",
    "score.mean()"
   ]
  },
  {
   "cell_type": "markdown",
   "metadata": {},
   "source": [
    "**3.3. Decision Tree (DT)**"
   ]
  },
  {
   "cell_type": "markdown",
   "metadata": {},
   "source": [
    "**Example 11:** Construct a Decision Tree (DT) predictive model using the data in Example 8. Evaluate the model using AUC and 5-fold cross validation."
   ]
  },
  {
   "cell_type": "code",
   "execution_count": 484,
   "metadata": {},
   "outputs": [
    {
     "data": {
      "text/plain": [
       "DecisionTreeClassifier(class_weight=None, criterion='gini', max_depth=10,\n",
       "            max_features=None, max_leaf_nodes=None,\n",
       "            min_impurity_decrease=0.0, min_impurity_split=None,\n",
       "            min_samples_leaf=1, min_samples_split=2,\n",
       "            min_weight_fraction_leaf=0.0, presort=False, random_state=None,\n",
       "            splitter='best')"
      ]
     },
     "execution_count": 484,
     "metadata": {},
     "output_type": "execute_result"
    }
   ],
   "source": [
    "# Load the model from sklearn\n",
    "from sklearn.tree import DecisionTreeClassifier  # Decision Tree\n",
    "from sklearn.model_selection import cross_val_score  # k-fold CV\n",
    "\n",
    "# Set up the model\n",
    "dt_clf_md = DecisionTreeClassifier(max_depth=10)\n",
    "\n",
    "# Fit a linear regression model\n",
    "dt_clf_md.fit(X, y)"
   ]
  },
  {
   "cell_type": "code",
   "execution_count": 488,
   "metadata": {},
   "outputs": [
    {
     "name": "stdout",
     "output_type": "stream",
     "text": [
      "                                  0\n",
      "DE Ratio                   0.026703\n",
      "Trailing P/E               0.065248\n",
      "Price/Sales                0.013521\n",
      "Price/Book                 0.008329\n",
      "Profit Margin              0.053039\n",
      "Operating Margin           0.023382\n",
      "Return on Assets           0.023794\n",
      "Return on Equity           0.006623\n",
      "Revenue Per Share          0.027869\n",
      "Market Cap                 0.054412\n",
      "Enterprise Value           0.023785\n",
      "Forward P/E                0.046067\n",
      "PEG Ratio                  0.016943\n",
      "Enterprise Value/Revenue   0.035600\n",
      "Enterprise Value/EBITDA    0.018289\n",
      "Revenue                    0.021743\n",
      "Gross Profit               0.034331\n",
      "EBITDA                     0.030940\n",
      "Net Income Avl to Common   0.031604\n",
      "Diluted EPS                0.023712\n",
      "Earnings Growth            0.017256\n",
      "Revenue Growth             0.012439\n",
      "Total Cash                 0.013214\n",
      "Total Cash Per Share       0.010447\n",
      "Total Debt                 0.061011\n",
      "Current Ratio              0.029748\n",
      "Book Value Per Share       0.017095\n",
      "Cash Flow                  0.056305\n",
      "Beta                       0.019876\n",
      "Held by Insiders           0.019130\n",
      "Held by Institutions       0.053691\n",
      "Shares Short (as of        0.028717\n",
      "Short Ratio                0.011999\n",
      "Short % of Float           0.041488\n",
      "Shares Short (prior        0.021652\n"
     ]
    }
   ],
   "source": [
    "# Print out the model\n",
    "print(pd.DataFrame(dt_clf_md.feature_importances_, index=X.columns))"
   ]
  },
  {
   "cell_type": "code",
   "execution_count": 496,
   "metadata": {
    "scrolled": false
   },
   "outputs": [],
   "source": [
    "# Decision rules\n",
    "# tree_to_code(dt_clf_md, X.columns)"
   ]
  },
  {
   "cell_type": "code",
   "execution_count": 494,
   "metadata": {},
   "outputs": [],
   "source": [
    "# Visualize the decision tree\n",
    "\n",
    "# Export the decision rules to dot file\n",
    "from sklearn import tree\n",
    "import graphviz \n",
    "dot_data = tree.export_graphviz(dt_clf_md, \n",
    "                                feature_names=X.columns,\n",
    "                                out_file='clf_tree.dot') \n",
    "\n",
    "# Visualize using WebGraphviz\n",
    "# Link: http://webgraphviz.com/"
   ]
  },
  {
   "cell_type": "code",
   "execution_count": 485,
   "metadata": {},
   "outputs": [
    {
     "data": {
      "text/plain": [
       "0.5209881790137988"
      ]
     },
     "execution_count": 485,
     "metadata": {},
     "output_type": "execute_result"
    }
   ],
   "source": [
    "# Evaluate using cross-validation\n",
    "score = cross_val_score(dt_clf_md, X, y, cv=5, scoring='roc_auc')  # k=5\n",
    "score.mean()"
   ]
  },
  {
   "cell_type": "markdown",
   "metadata": {},
   "source": [
    "**3.4. Random Forest (RF)**"
   ]
  },
  {
   "cell_type": "markdown",
   "metadata": {},
   "source": [
    "**Example 12:** Construct a Random Forest (RF) predictive model using the data in Example 8. Evaluate the model using AUC and 5-fold cross validation."
   ]
  },
  {
   "cell_type": "code",
   "execution_count": 486,
   "metadata": {},
   "outputs": [
    {
     "data": {
      "text/plain": [
       "RandomForestClassifier(bootstrap=True, class_weight=None, criterion='gini',\n",
       "            max_depth=10, max_features='auto', max_leaf_nodes=None,\n",
       "            min_impurity_decrease=0.0, min_impurity_split=None,\n",
       "            min_samples_leaf=1, min_samples_split=2,\n",
       "            min_weight_fraction_leaf=0.0, n_estimators=100, n_jobs=None,\n",
       "            oob_score=False, random_state=123, verbose=0, warm_start=False)"
      ]
     },
     "execution_count": 486,
     "metadata": {},
     "output_type": "execute_result"
    }
   ],
   "source": [
    "# Load the model from sklearn\n",
    "from sklearn.ensemble import RandomForestClassifier  # Random Forest\n",
    "from sklearn.model_selection import cross_val_score  # k-fold CV\n",
    "\n",
    "# Set up the model\n",
    "rf_clf_md = RandomForestClassifier(n_estimators=100, max_depth=10, random_state=123)\n",
    "\n",
    "# Fit a linear regression model\n",
    "rf_clf_md.fit(X, y)"
   ]
  },
  {
   "cell_type": "code",
   "execution_count": 489,
   "metadata": {},
   "outputs": [
    {
     "name": "stdout",
     "output_type": "stream",
     "text": [
      "                                  0\n",
      "DE Ratio                   0.033823\n",
      "Trailing P/E               0.028718\n",
      "Price/Sales                0.029330\n",
      "Price/Book                 0.030827\n",
      "Profit Margin              0.028750\n",
      "Operating Margin           0.029029\n",
      "Return on Assets           0.030387\n",
      "Return on Equity           0.026000\n",
      "Revenue Per Share          0.029688\n",
      "Market Cap                 0.036267\n",
      "Enterprise Value           0.034498\n",
      "Forward P/E                0.027473\n",
      "PEG Ratio                  0.028282\n",
      "Enterprise Value/Revenue   0.030146\n",
      "Enterprise Value/EBITDA    0.027312\n",
      "Revenue                    0.027539\n",
      "Gross Profit               0.033155\n",
      "EBITDA                     0.023574\n",
      "Net Income Avl to Common   0.027234\n",
      "Diluted EPS                0.028597\n",
      "Earnings Growth            0.021384\n",
      "Revenue Growth             0.025899\n",
      "Total Cash                 0.029494\n",
      "Total Cash Per Share       0.027863\n",
      "Total Debt                 0.032747\n",
      "Current Ratio              0.025589\n",
      "Book Value Per Share       0.028381\n",
      "Cash Flow                  0.031843\n",
      "Beta                       0.027610\n",
      "Held by Insiders           0.027359\n",
      "Held by Institutions       0.029251\n",
      "Shares Short (as of        0.024353\n",
      "Short Ratio                0.023366\n",
      "Short % of Float           0.028658\n",
      "Shares Short (prior        0.025571\n"
     ]
    }
   ],
   "source": [
    "# Print out the model\n",
    "print(pd.DataFrame(rf_clf_md.feature_importances_, index=X.columns))"
   ]
  },
  {
   "cell_type": "code",
   "execution_count": 487,
   "metadata": {},
   "outputs": [
    {
     "data": {
      "text/plain": [
       "0.5705608911310583"
      ]
     },
     "execution_count": 487,
     "metadata": {},
     "output_type": "execute_result"
    }
   ],
   "source": [
    "# Evaluate using cross-validation\n",
    "score = cross_val_score(rf_clf_md, X, y, cv=5, scoring='roc_auc')  # k=5\n",
    "score.mean()"
   ]
  },
  {
   "cell_type": "markdown",
   "metadata": {},
   "source": [
    "**3.5. Boosting Tree (Boost)**"
   ]
  },
  {
   "cell_type": "markdown",
   "metadata": {},
   "source": [
    "**Example 13:** Construct a Boosting Tree (Boost) predictive model using the data in Example 8. Evaluate the model using AUC and 5-fold cross validation."
   ]
  },
  {
   "cell_type": "code",
   "execution_count": 490,
   "metadata": {},
   "outputs": [
    {
     "data": {
      "text/plain": [
       "AdaBoostClassifier(algorithm='SAMME.R', base_estimator=None,\n",
       "          learning_rate=0.1, n_estimators=100, random_state=123)"
      ]
     },
     "execution_count": 490,
     "metadata": {},
     "output_type": "execute_result"
    }
   ],
   "source": [
    "# Load the model from sklearn\n",
    "from sklearn.ensemble import AdaBoostClassifier  # Boosting Tree\n",
    "from sklearn.model_selection import cross_val_score  # k-fold CV\n",
    "\n",
    "# Set up the model\n",
    "boost_clf_md = AdaBoostClassifier(n_estimators=100, learning_rate=0.1, random_state=123)\n",
    "\n",
    "# Fit a linear regression model\n",
    "boost_clf_md.fit(X, y)"
   ]
  },
  {
   "cell_type": "code",
   "execution_count": 491,
   "metadata": {},
   "outputs": [
    {
     "name": "stdout",
     "output_type": "stream",
     "text": [
      "                              0\n",
      "DE Ratio                   0.09\n",
      "Trailing P/E               0.06\n",
      "Price/Sales                0.00\n",
      "Price/Book                 0.08\n",
      "Profit Margin              0.01\n",
      "Operating Margin           0.00\n",
      "Return on Assets           0.09\n",
      "Return on Equity           0.00\n",
      "Revenue Per Share          0.00\n",
      "Market Cap                 0.04\n",
      "Enterprise Value           0.08\n",
      "Forward P/E                0.06\n",
      "PEG Ratio                  0.02\n",
      "Enterprise Value/Revenue   0.03\n",
      "Enterprise Value/EBITDA    0.01\n",
      "Revenue                    0.02\n",
      "Gross Profit               0.10\n",
      "EBITDA                     0.00\n",
      "Net Income Avl to Common   0.00\n",
      "Diluted EPS                0.04\n",
      "Earnings Growth            0.01\n",
      "Revenue Growth             0.02\n",
      "Total Cash                 0.00\n",
      "Total Cash Per Share       0.03\n",
      "Total Debt                 0.00\n",
      "Current Ratio              0.02\n",
      "Book Value Per Share       0.02\n",
      "Cash Flow                  0.08\n",
      "Beta                       0.00\n",
      "Held by Insiders           0.00\n",
      "Held by Institutions       0.01\n",
      "Shares Short (as of        0.03\n",
      "Short Ratio                0.00\n",
      "Short % of Float           0.05\n",
      "Shares Short (prior        0.00\n"
     ]
    }
   ],
   "source": [
    "# Print out the model\n",
    "print(pd.DataFrame(boost_clf_md.feature_importances_, index=X.columns))"
   ]
  },
  {
   "cell_type": "code",
   "execution_count": 492,
   "metadata": {},
   "outputs": [
    {
     "data": {
      "text/plain": [
       "0.5629059382314743"
      ]
     },
     "execution_count": 492,
     "metadata": {},
     "output_type": "execute_result"
    }
   ],
   "source": [
    "# Evaluate using cross-validation\n",
    "score = cross_val_score(boost_clf_md, X, y, cv=5, scoring='roc_auc')  # k=5\n",
    "score.mean()"
   ]
  },
  {
   "cell_type": "markdown",
   "metadata": {},
   "source": [
    "## Exercises"
   ]
  },
  {
   "cell_type": "markdown",
   "metadata": {},
   "source": [
    "**Exercise 1:** Predict stock performance data (file: ./data/key_stats_acc_perf_WITH_NA.csv) with the following instruction:\n",
    "\n",
    "![s&p500](./img/s&p500.jpg)\n",
    "\n",
    "1. Drop unnecessary and bias columns: Unix, stock_p_change, Difference, Price, SP500, sp500_p_change.\n",
    "2. From column Date, calculate: year, month, day, is_weekend, is_morning.\n",
    "3. Convert column Ticker to dummied variables.\n",
    "4. Fill missing values by mean of column.\n",
    "5. Apply LR, kNN, DT, RF and Boost and compare AUC performance using 5-fold cross validation.\n",
    "\n",
    "Ref:\n",
    "\n",
    "Learning and Testing our Machine learning algorithm  \n",
    "https://pythonprogramming.net/learning-and-testing-svm/"
   ]
  },
  {
   "cell_type": "code",
   "execution_count": 549,
   "metadata": {},
   "outputs": [
    {
     "data": {
      "text/html": [
       "<div>\n",
       "<style scoped>\n",
       "    .dataframe tbody tr th:only-of-type {\n",
       "        vertical-align: middle;\n",
       "    }\n",
       "\n",
       "    .dataframe tbody tr th {\n",
       "        vertical-align: top;\n",
       "    }\n",
       "\n",
       "    .dataframe thead th {\n",
       "        text-align: right;\n",
       "    }\n",
       "</style>\n",
       "<table border=\"1\" class=\"dataframe\">\n",
       "  <thead>\n",
       "    <tr style=\"text-align: right;\">\n",
       "      <th></th>\n",
       "      <th>Date</th>\n",
       "      <th>Unix</th>\n",
       "      <th>Ticker</th>\n",
       "      <th>Price</th>\n",
       "      <th>stock_p_change</th>\n",
       "      <th>SP500</th>\n",
       "      <th>sp500_p_change</th>\n",
       "      <th>Difference</th>\n",
       "      <th>DE Ratio</th>\n",
       "      <th>Trailing P/E</th>\n",
       "      <th>...</th>\n",
       "      <th>Book Value Per Share</th>\n",
       "      <th>Cash Flow</th>\n",
       "      <th>Beta</th>\n",
       "      <th>Held by Insiders</th>\n",
       "      <th>Held by Institutions</th>\n",
       "      <th>Shares Short (as of</th>\n",
       "      <th>Short Ratio</th>\n",
       "      <th>Short % of Float</th>\n",
       "      <th>Shares Short (prior</th>\n",
       "      <th>Status</th>\n",
       "    </tr>\n",
       "  </thead>\n",
       "  <tbody>\n",
       "    <tr>\n",
       "      <th>0</th>\n",
       "      <td>2004-01-30 19:01:02</td>\n",
       "      <td>1.075518e+09</td>\n",
       "      <td>a</td>\n",
       "      <td>24.73</td>\n",
       "      <td>-40.32</td>\n",
       "      <td>1131.13</td>\n",
       "      <td>3.80</td>\n",
       "      <td>-44.12</td>\n",
       "      <td>0.407</td>\n",
       "      <td>NaN</td>\n",
       "      <td>...</td>\n",
       "      <td>5.930</td>\n",
       "      <td>144000000.0</td>\n",
       "      <td>2.474</td>\n",
       "      <td>10.01</td>\n",
       "      <td>63.03</td>\n",
       "      <td>9300000.0</td>\n",
       "      <td>3.923</td>\n",
       "      <td>2.17</td>\n",
       "      <td>6930000.0</td>\n",
       "      <td>underperform</td>\n",
       "    </tr>\n",
       "    <tr>\n",
       "      <th>1</th>\n",
       "      <td>2004-04-13 04:07:11</td>\n",
       "      <td>1.081854e+09</td>\n",
       "      <td>a</td>\n",
       "      <td>20.80</td>\n",
       "      <td>-32.88</td>\n",
       "      <td>1129.44</td>\n",
       "      <td>3.93</td>\n",
       "      <td>-36.81</td>\n",
       "      <td>0.375</td>\n",
       "      <td>NaN</td>\n",
       "      <td>...</td>\n",
       "      <td>6.394</td>\n",
       "      <td>144000000.0</td>\n",
       "      <td>2.496</td>\n",
       "      <td>10.00</td>\n",
       "      <td>66.79</td>\n",
       "      <td>7520000.0</td>\n",
       "      <td>2.328</td>\n",
       "      <td>1.74</td>\n",
       "      <td>9170000.0</td>\n",
       "      <td>underperform</td>\n",
       "    </tr>\n",
       "    <tr>\n",
       "      <th>2</th>\n",
       "      <td>2004-12-13 21:37:34</td>\n",
       "      <td>1.103003e+09</td>\n",
       "      <td>a</td>\n",
       "      <td>15.99</td>\n",
       "      <td>50.97</td>\n",
       "      <td>1198.68</td>\n",
       "      <td>5.74</td>\n",
       "      <td>45.23</td>\n",
       "      <td>0.323</td>\n",
       "      <td>33.58</td>\n",
       "      <td>...</td>\n",
       "      <td>7.320</td>\n",
       "      <td>483000000.0</td>\n",
       "      <td>2.547</td>\n",
       "      <td>20.00</td>\n",
       "      <td>66.68</td>\n",
       "      <td>6930000.0</td>\n",
       "      <td>2.638</td>\n",
       "      <td>1.78</td>\n",
       "      <td>6540000.0</td>\n",
       "      <td>outperform</td>\n",
       "    </tr>\n",
       "    <tr>\n",
       "      <th>3</th>\n",
       "      <td>2005-01-22 05:17:19</td>\n",
       "      <td>1.106400e+09</td>\n",
       "      <td>a</td>\n",
       "      <td>14.80</td>\n",
       "      <td>58.65</td>\n",
       "      <td>1184.63</td>\n",
       "      <td>8.48</td>\n",
       "      <td>50.17</td>\n",
       "      <td>0.322</td>\n",
       "      <td>30.70</td>\n",
       "      <td>...</td>\n",
       "      <td>7.329</td>\n",
       "      <td>663000000.0</td>\n",
       "      <td>2.166</td>\n",
       "      <td>10.12</td>\n",
       "      <td>67.08</td>\n",
       "      <td>7040000.0</td>\n",
       "      <td>2.385</td>\n",
       "      <td>1.60</td>\n",
       "      <td>6930000.0</td>\n",
       "      <td>outperform</td>\n",
       "    </tr>\n",
       "    <tr>\n",
       "      <th>4</th>\n",
       "      <td>2006-01-09 02:35:16</td>\n",
       "      <td>1.136803e+09</td>\n",
       "      <td>a</td>\n",
       "      <td>23.18</td>\n",
       "      <td>2.67</td>\n",
       "      <td>1290.15</td>\n",
       "      <td>9.45</td>\n",
       "      <td>-6.78</td>\n",
       "      <td>2.169</td>\n",
       "      <td>52.82</td>\n",
       "      <td>...</td>\n",
       "      <td>8.095</td>\n",
       "      <td>890000000.0</td>\n",
       "      <td>NaN</td>\n",
       "      <td>0.57</td>\n",
       "      <td>70.40</td>\n",
       "      <td>10980000.0</td>\n",
       "      <td>2.300</td>\n",
       "      <td>2.20</td>\n",
       "      <td>5840000.0</td>\n",
       "      <td>underperform</td>\n",
       "    </tr>\n",
       "  </tbody>\n",
       "</table>\n",
       "<p>5 rows × 44 columns</p>\n",
       "</div>"
      ],
      "text/plain": [
       "                  Date          Unix Ticker  Price  stock_p_change    SP500  \\\n",
       "0  2004-01-30 19:01:02  1.075518e+09      a  24.73          -40.32  1131.13   \n",
       "1  2004-04-13 04:07:11  1.081854e+09      a  20.80          -32.88  1129.44   \n",
       "2  2004-12-13 21:37:34  1.103003e+09      a  15.99           50.97  1198.68   \n",
       "3  2005-01-22 05:17:19  1.106400e+09      a  14.80           58.65  1184.63   \n",
       "4  2006-01-09 02:35:16  1.136803e+09      a  23.18            2.67  1290.15   \n",
       "\n",
       "   sp500_p_change  Difference  DE Ratio  Trailing P/E      ...       \\\n",
       "0            3.80      -44.12     0.407           NaN      ...        \n",
       "1            3.93      -36.81     0.375           NaN      ...        \n",
       "2            5.74       45.23     0.323         33.58      ...        \n",
       "3            8.48       50.17     0.322         30.70      ...        \n",
       "4            9.45       -6.78     2.169         52.82      ...        \n",
       "\n",
       "   Book Value Per Share    Cash Flow   Beta  Held by Insiders  \\\n",
       "0                 5.930  144000000.0  2.474             10.01   \n",
       "1                 6.394  144000000.0  2.496             10.00   \n",
       "2                 7.320  483000000.0  2.547             20.00   \n",
       "3                 7.329  663000000.0  2.166             10.12   \n",
       "4                 8.095  890000000.0    NaN              0.57   \n",
       "\n",
       "   Held by Institutions  Shares Short (as of  Short Ratio  Short % of Float  \\\n",
       "0                 63.03            9300000.0        3.923              2.17   \n",
       "1                 66.79            7520000.0        2.328              1.74   \n",
       "2                 66.68            6930000.0        2.638              1.78   \n",
       "3                 67.08            7040000.0        2.385              1.60   \n",
       "4                 70.40           10980000.0        2.300              2.20   \n",
       "\n",
       "   Shares Short (prior         Status  \n",
       "0             6930000.0  underperform  \n",
       "1             9170000.0  underperform  \n",
       "2             6540000.0    outperform  \n",
       "3             6930000.0    outperform  \n",
       "4             5840000.0  underperform  \n",
       "\n",
       "[5 rows x 44 columns]"
      ]
     },
     "execution_count": 549,
     "metadata": {},
     "output_type": "execute_result"
    }
   ],
   "source": [
    "# Import the data\n",
    "stock_price = pd.read_csv('./data/key_stats_acc_perf_WITH_NA.csv', index_col=0)\n",
    "stock_price.head()"
   ]
  },
  {
   "cell_type": "markdown",
   "metadata": {},
   "source": [
    "**1.** Drop unnecessary and bias columns: Unix, stock_p_change, Difference, Price, SP500, sp500_p_change."
   ]
  },
  {
   "cell_type": "code",
   "execution_count": 550,
   "metadata": {},
   "outputs": [],
   "source": [
    "# Drop some unnecessary or bias variables\n",
    "drop_vars = ['Unix', 'stock_p_change', 'Difference', 'Price', 'SP500', 'sp500_p_change']\n",
    "stock_price = stock_price.drop(drop_vars, axis=1, errors='ignore')"
   ]
  },
  {
   "cell_type": "markdown",
   "metadata": {},
   "source": [
    "**2.** From column Date, calculate: year, month, day, is_weekend, is_morning."
   ]
  },
  {
   "cell_type": "code",
   "execution_count": 551,
   "metadata": {},
   "outputs": [],
   "source": [
    "from datetime import datetime\n",
    "\n",
    "# Convert column Date to datetime data type, extract date and time\n",
    "datetime_col = pd.to_datetime(stock_price['Date'])\n",
    "date_col = datetime_col.apply(lambda x: x.date())\n",
    "time_col = datetime_col.apply(lambda x: x.time())\n",
    "\n",
    "# Get the year, month and day\n",
    "stock_price['year'] = date_col.apply(lambda x: x.year)\n",
    "stock_price['month'] = date_col.apply(lambda x: x.month)\n",
    "stock_price['day'] = date_col.apply(lambda x: x.day)\n",
    "\n",
    "# Get the is_weekend\n",
    "weekend = set([5, 6])\n",
    "stock_price['is_weekend'] = date_col.apply(lambda x: int(x.weekday() in weekend))\n",
    "\n",
    "# Get the is_morning\n",
    "stock_price['is_morning'] = time_col.apply(lambda x: int(x.hour <= 12))\n",
    "\n",
    "# Drop column Date, done\n",
    "stock_price = stock_price.drop('Date', axis=1, errors='ignore')"
   ]
  },
  {
   "cell_type": "markdown",
   "metadata": {},
   "source": [
    "**3.** Convert column Ticker to dummied variables."
   ]
  },
  {
   "cell_type": "code",
   "execution_count": 552,
   "metadata": {},
   "outputs": [],
   "source": [
    "dum_var = pd.get_dummies(stock_price['Ticker'], dummy_na=False, drop_first=True)  # Get dummied variables\n",
    "stock_price = pd.concat((stock_price, dum_var), axis=1)  # Combine the dummied variables with the data\n",
    "stock_price = stock_price.drop('Ticker', axis=1, errors='ignore')  # Drop column Ticker, done"
   ]
  },
  {
   "cell_type": "markdown",
   "metadata": {},
   "source": [
    "**4.** Fill missing values by mean of column."
   ]
  },
  {
   "cell_type": "code",
   "execution_count": 553,
   "metadata": {},
   "outputs": [],
   "source": [
    "# Fill missing values by mean of column\n",
    "for col in stock_price.columns:\n",
    "    if np.issubdtype(stock_price[col].dtype, np.number):\n",
    "        if sum(stock_price[col].isna()) > 0:\n",
    "            stock_price[col] = stock_price[col].fillna(stock_price[col].mean())"
   ]
  },
  {
   "cell_type": "markdown",
   "metadata": {},
   "source": [
    "**5.** Apply LR, kNN, DT, RF and Boost and compare AUC performance using 5-fold cross validation."
   ]
  },
  {
   "cell_type": "code",
   "execution_count": 554,
   "metadata": {},
   "outputs": [],
   "source": [
    "# Separate data into predictors and response\n",
    "X_stock = stock_price.iloc[:, stock_price.columns != 'Status']\n",
    "y_stock = stock_price['Status']"
   ]
  },
  {
   "cell_type": "code",
   "execution_count": 555,
   "metadata": {},
   "outputs": [
    {
     "name": "stderr",
     "output_type": "stream",
     "text": [
      "D:\\Anaconda3\\Lib\\site-packages\\sklearn\\linear_model\\logistic.py:432: FutureWarning: Default solver will be changed to 'lbfgs' in 0.22. Specify a solver to silence this warning.\n",
      "  FutureWarning)\n",
      "D:\\Anaconda3\\Lib\\site-packages\\sklearn\\linear_model\\logistic.py:432: FutureWarning: Default solver will be changed to 'lbfgs' in 0.22. Specify a solver to silence this warning.\n",
      "  FutureWarning)\n",
      "D:\\Anaconda3\\Lib\\site-packages\\sklearn\\linear_model\\logistic.py:432: FutureWarning: Default solver will be changed to 'lbfgs' in 0.22. Specify a solver to silence this warning.\n",
      "  FutureWarning)\n",
      "D:\\Anaconda3\\Lib\\site-packages\\sklearn\\linear_model\\logistic.py:432: FutureWarning: Default solver will be changed to 'lbfgs' in 0.22. Specify a solver to silence this warning.\n",
      "  FutureWarning)\n",
      "D:\\Anaconda3\\Lib\\site-packages\\sklearn\\linear_model\\logistic.py:432: FutureWarning: Default solver will be changed to 'lbfgs' in 0.22. Specify a solver to silence this warning.\n",
      "  FutureWarning)\n",
      "D:\\Anaconda3\\Lib\\site-packages\\sklearn\\linear_model\\logistic.py:432: FutureWarning: Default solver will be changed to 'lbfgs' in 0.22. Specify a solver to silence this warning.\n",
      "  FutureWarning)\n"
     ]
    },
    {
     "data": {
      "text/plain": [
       "0.4939917620293522"
      ]
     },
     "execution_count": 555,
     "metadata": {},
     "output_type": "execute_result"
    }
   ],
   "source": [
    "# Logistic Regression\n",
    "lr_stock = LogisticRegression()\n",
    "lr_stock.fit(X_stock, y_stock)\n",
    "\n",
    "# Evaluate using cross-validation\n",
    "score = cross_val_score(lr_stock, X_stock, y_stock, cv=5, scoring='roc_auc')  # k=5\n",
    "score.mean()"
   ]
  },
  {
   "cell_type": "code",
   "execution_count": 556,
   "metadata": {},
   "outputs": [
    {
     "data": {
      "text/plain": [
       "0.5241819296440186"
      ]
     },
     "execution_count": 556,
     "metadata": {},
     "output_type": "execute_result"
    }
   ],
   "source": [
    "# k-Nearest Neighbors (kNN)\n",
    "knn_stock = KNeighborsClassifier(n_neighbors=10)\n",
    "knn_stock.fit(X_stock, y_stock)\n",
    "\n",
    "# Evaluate using cross-validation\n",
    "score = cross_val_score(knn_stock, X_stock, y_stock, cv=5, scoring='roc_auc')  # k=5\n",
    "score.mean()"
   ]
  },
  {
   "cell_type": "code",
   "execution_count": 557,
   "metadata": {},
   "outputs": [
    {
     "data": {
      "text/plain": [
       "0.5388422712363481"
      ]
     },
     "execution_count": 557,
     "metadata": {},
     "output_type": "execute_result"
    }
   ],
   "source": [
    "# Decision Tree (DT)\n",
    "dt_stock = DecisionTreeClassifier(max_depth=10)\n",
    "dt_stock.fit(X_stock, y_stock)\n",
    "\n",
    "# Evaluate using cross-validation\n",
    "score = cross_val_score(dt_stock, X_stock, y_stock, cv=5, scoring='roc_auc')  # k=5\n",
    "score.mean()"
   ]
  },
  {
   "cell_type": "code",
   "execution_count": 561,
   "metadata": {},
   "outputs": [
    {
     "data": {
      "text/plain": [
       "0.5742148449358357"
      ]
     },
     "execution_count": 561,
     "metadata": {},
     "output_type": "execute_result"
    }
   ],
   "source": [
    "# Random Forest\n",
    "rf_stock = RandomForestClassifier(n_estimators=100, max_depth=10, random_state=123)\n",
    "rf_stock.fit(X_stock, y_stock)\n",
    "\n",
    "# Evaluate using cross-validation\n",
    "score = cross_val_score(rf_stock, X_stock, y_stock, cv=5, scoring='roc_auc')  # k=5\n",
    "score.mean()"
   ]
  },
  {
   "cell_type": "code",
   "execution_count": 559,
   "metadata": {},
   "outputs": [
    {
     "data": {
      "text/plain": [
       "0.551996585391439"
      ]
     },
     "execution_count": 559,
     "metadata": {},
     "output_type": "execute_result"
    }
   ],
   "source": [
    "# Boosting Tree (Boost)\n",
    "boost_stock = AdaBoostClassifier(n_estimators=100, learning_rate=0.1, random_state=123)\n",
    "boost_stock.fit(X_stock, y_stock)\n",
    "\n",
    "# Evaluate using cross-validation\n",
    "score = cross_val_score(boost_stock, X_stock, y_stock, cv=5, scoring='roc_auc')  # k=5\n",
    "score.mean()"
   ]
  },
  {
   "cell_type": "markdown",
   "metadata": {},
   "source": [
    "**Exercise 2:** Predict default of credit card client in Taiwan financial institution. Construct LR, kNN, DT, RF and Boost predictive models and compare the AUC performance using 5-fold cross validation.\n",
    "\n",
    "![credit_card_default](./img/credit_card_default.png)\n",
    "\n",
    "Ref:  \n",
    "\n",
    "default of credit card clients Data Set  \n",
    "http://archive.ics.uci.edu/ml/datasets/default+of+credit+card+clients#"
   ]
  },
  {
   "cell_type": "code",
   "execution_count": 498,
   "metadata": {},
   "outputs": [
    {
     "data": {
      "text/html": [
       "<div>\n",
       "<style scoped>\n",
       "    .dataframe tbody tr th:only-of-type {\n",
       "        vertical-align: middle;\n",
       "    }\n",
       "\n",
       "    .dataframe tbody tr th {\n",
       "        vertical-align: top;\n",
       "    }\n",
       "\n",
       "    .dataframe thead th {\n",
       "        text-align: right;\n",
       "    }\n",
       "</style>\n",
       "<table border=\"1\" class=\"dataframe\">\n",
       "  <thead>\n",
       "    <tr style=\"text-align: right;\">\n",
       "      <th></th>\n",
       "      <th>X1</th>\n",
       "      <th>X2</th>\n",
       "      <th>X3</th>\n",
       "      <th>X4</th>\n",
       "      <th>X5</th>\n",
       "      <th>X6</th>\n",
       "      <th>X7</th>\n",
       "      <th>X8</th>\n",
       "      <th>X9</th>\n",
       "      <th>X10</th>\n",
       "      <th>...</th>\n",
       "      <th>X15</th>\n",
       "      <th>X16</th>\n",
       "      <th>X17</th>\n",
       "      <th>X18</th>\n",
       "      <th>X19</th>\n",
       "      <th>X20</th>\n",
       "      <th>X21</th>\n",
       "      <th>X22</th>\n",
       "      <th>X23</th>\n",
       "      <th>Y</th>\n",
       "    </tr>\n",
       "  </thead>\n",
       "  <tbody>\n",
       "    <tr>\n",
       "      <th>ID</th>\n",
       "      <td>LIMIT_BAL</td>\n",
       "      <td>SEX</td>\n",
       "      <td>EDUCATION</td>\n",
       "      <td>MARRIAGE</td>\n",
       "      <td>AGE</td>\n",
       "      <td>PAY_0</td>\n",
       "      <td>PAY_2</td>\n",
       "      <td>PAY_3</td>\n",
       "      <td>PAY_4</td>\n",
       "      <td>PAY_5</td>\n",
       "      <td>...</td>\n",
       "      <td>BILL_AMT4</td>\n",
       "      <td>BILL_AMT5</td>\n",
       "      <td>BILL_AMT6</td>\n",
       "      <td>PAY_AMT1</td>\n",
       "      <td>PAY_AMT2</td>\n",
       "      <td>PAY_AMT3</td>\n",
       "      <td>PAY_AMT4</td>\n",
       "      <td>PAY_AMT5</td>\n",
       "      <td>PAY_AMT6</td>\n",
       "      <td>default payment next month</td>\n",
       "    </tr>\n",
       "    <tr>\n",
       "      <th>1</th>\n",
       "      <td>20000</td>\n",
       "      <td>2</td>\n",
       "      <td>2</td>\n",
       "      <td>1</td>\n",
       "      <td>24</td>\n",
       "      <td>2</td>\n",
       "      <td>2</td>\n",
       "      <td>-1</td>\n",
       "      <td>-1</td>\n",
       "      <td>-2</td>\n",
       "      <td>...</td>\n",
       "      <td>0</td>\n",
       "      <td>0</td>\n",
       "      <td>0</td>\n",
       "      <td>0</td>\n",
       "      <td>689</td>\n",
       "      <td>0</td>\n",
       "      <td>0</td>\n",
       "      <td>0</td>\n",
       "      <td>0</td>\n",
       "      <td>1</td>\n",
       "    </tr>\n",
       "    <tr>\n",
       "      <th>2</th>\n",
       "      <td>120000</td>\n",
       "      <td>2</td>\n",
       "      <td>2</td>\n",
       "      <td>2</td>\n",
       "      <td>26</td>\n",
       "      <td>-1</td>\n",
       "      <td>2</td>\n",
       "      <td>0</td>\n",
       "      <td>0</td>\n",
       "      <td>0</td>\n",
       "      <td>...</td>\n",
       "      <td>3272</td>\n",
       "      <td>3455</td>\n",
       "      <td>3261</td>\n",
       "      <td>0</td>\n",
       "      <td>1000</td>\n",
       "      <td>1000</td>\n",
       "      <td>1000</td>\n",
       "      <td>0</td>\n",
       "      <td>2000</td>\n",
       "      <td>1</td>\n",
       "    </tr>\n",
       "    <tr>\n",
       "      <th>3</th>\n",
       "      <td>90000</td>\n",
       "      <td>2</td>\n",
       "      <td>2</td>\n",
       "      <td>2</td>\n",
       "      <td>34</td>\n",
       "      <td>0</td>\n",
       "      <td>0</td>\n",
       "      <td>0</td>\n",
       "      <td>0</td>\n",
       "      <td>0</td>\n",
       "      <td>...</td>\n",
       "      <td>14331</td>\n",
       "      <td>14948</td>\n",
       "      <td>15549</td>\n",
       "      <td>1518</td>\n",
       "      <td>1500</td>\n",
       "      <td>1000</td>\n",
       "      <td>1000</td>\n",
       "      <td>1000</td>\n",
       "      <td>5000</td>\n",
       "      <td>0</td>\n",
       "    </tr>\n",
       "    <tr>\n",
       "      <th>4</th>\n",
       "      <td>50000</td>\n",
       "      <td>2</td>\n",
       "      <td>2</td>\n",
       "      <td>1</td>\n",
       "      <td>37</td>\n",
       "      <td>0</td>\n",
       "      <td>0</td>\n",
       "      <td>0</td>\n",
       "      <td>0</td>\n",
       "      <td>0</td>\n",
       "      <td>...</td>\n",
       "      <td>28314</td>\n",
       "      <td>28959</td>\n",
       "      <td>29547</td>\n",
       "      <td>2000</td>\n",
       "      <td>2019</td>\n",
       "      <td>1200</td>\n",
       "      <td>1100</td>\n",
       "      <td>1069</td>\n",
       "      <td>1000</td>\n",
       "      <td>0</td>\n",
       "    </tr>\n",
       "  </tbody>\n",
       "</table>\n",
       "<p>5 rows × 24 columns</p>\n",
       "</div>"
      ],
      "text/plain": [
       "           X1   X2         X3        X4   X5     X6     X7     X8     X9  \\\n",
       "ID  LIMIT_BAL  SEX  EDUCATION  MARRIAGE  AGE  PAY_0  PAY_2  PAY_3  PAY_4   \n",
       "1       20000    2          2         1   24      2      2     -1     -1   \n",
       "2      120000    2          2         2   26     -1      2      0      0   \n",
       "3       90000    2          2         2   34      0      0      0      0   \n",
       "4       50000    2          2         1   37      0      0      0      0   \n",
       "\n",
       "      X10             ...                    X15        X16        X17  \\\n",
       "ID  PAY_5             ...              BILL_AMT4  BILL_AMT5  BILL_AMT6   \n",
       "1      -2             ...                      0          0          0   \n",
       "2       0             ...                   3272       3455       3261   \n",
       "3       0             ...                  14331      14948      15549   \n",
       "4       0             ...                  28314      28959      29547   \n",
       "\n",
       "         X18       X19       X20       X21       X22       X23  \\\n",
       "ID  PAY_AMT1  PAY_AMT2  PAY_AMT3  PAY_AMT4  PAY_AMT5  PAY_AMT6   \n",
       "1          0       689         0         0         0         0   \n",
       "2          0      1000      1000      1000         0      2000   \n",
       "3       1518      1500      1000      1000      1000      5000   \n",
       "4       2000      2019      1200      1100      1069      1000   \n",
       "\n",
       "                             Y  \n",
       "ID  default payment next month  \n",
       "1                            1  \n",
       "2                            1  \n",
       "3                            0  \n",
       "4                            0  \n",
       "\n",
       "[5 rows x 24 columns]"
      ]
     },
     "execution_count": 498,
     "metadata": {},
     "output_type": "execute_result"
    }
   ],
   "source": [
    "# Import data\n",
    "default = pd.read_excel('./data/default_of_credit_card_clients.xls')\n",
    "default.head()"
   ]
  },
  {
   "cell_type": "code",
   "execution_count": 505,
   "metadata": {},
   "outputs": [],
   "source": [
    "# Process data\n",
    "\n",
    "# Drop the first line, convert data from object to number\n",
    "default = default.iloc[1:, :]\n",
    "default = default.apply(pd.to_numeric, args=('coerce',))\n",
    "\n",
    "# Separate data into predictors and response\n",
    "X_default = default.iloc[:, :-1]\n",
    "y_default = default['Y']"
   ]
  },
  {
   "cell_type": "code",
   "execution_count": 510,
   "metadata": {},
   "outputs": [
    {
     "name": "stderr",
     "output_type": "stream",
     "text": [
      "D:\\Anaconda3\\Lib\\site-packages\\sklearn\\linear_model\\logistic.py:432: FutureWarning: Default solver will be changed to 'lbfgs' in 0.22. Specify a solver to silence this warning.\n",
      "  FutureWarning)\n",
      "D:\\Anaconda3\\Lib\\site-packages\\sklearn\\linear_model\\logistic.py:432: FutureWarning: Default solver will be changed to 'lbfgs' in 0.22. Specify a solver to silence this warning.\n",
      "  FutureWarning)\n",
      "D:\\Anaconda3\\Lib\\site-packages\\sklearn\\linear_model\\logistic.py:432: FutureWarning: Default solver will be changed to 'lbfgs' in 0.22. Specify a solver to silence this warning.\n",
      "  FutureWarning)\n",
      "D:\\Anaconda3\\Lib\\site-packages\\sklearn\\linear_model\\logistic.py:432: FutureWarning: Default solver will be changed to 'lbfgs' in 0.22. Specify a solver to silence this warning.\n",
      "  FutureWarning)\n",
      "D:\\Anaconda3\\Lib\\site-packages\\sklearn\\linear_model\\logistic.py:432: FutureWarning: Default solver will be changed to 'lbfgs' in 0.22. Specify a solver to silence this warning.\n",
      "  FutureWarning)\n",
      "D:\\Anaconda3\\Lib\\site-packages\\sklearn\\linear_model\\logistic.py:432: FutureWarning: Default solver will be changed to 'lbfgs' in 0.22. Specify a solver to silence this warning.\n",
      "  FutureWarning)\n"
     ]
    },
    {
     "data": {
      "text/plain": [
       "0.6506472184532859"
      ]
     },
     "execution_count": 510,
     "metadata": {},
     "output_type": "execute_result"
    }
   ],
   "source": [
    "# Logistic Regression\n",
    "lr_credit = LogisticRegression()\n",
    "lr_credit.fit(X_default, y_default)\n",
    "\n",
    "# Evaluate using cross-validation\n",
    "score = cross_val_score(lr_credit, X_default, y_default, cv=5, scoring='roc_auc')  # k=5\n",
    "score.mean()"
   ]
  },
  {
   "cell_type": "code",
   "execution_count": 511,
   "metadata": {},
   "outputs": [
    {
     "data": {
      "text/plain": [
       "0.6308878260782838"
      ]
     },
     "execution_count": 511,
     "metadata": {},
     "output_type": "execute_result"
    }
   ],
   "source": [
    "# k-Nearest Neighbors (kNN)\n",
    "knn_credit = KNeighborsClassifier(n_neighbors=10)\n",
    "knn_credit.fit(X_default, y_default)\n",
    "\n",
    "# Evaluate using cross-validation\n",
    "score = cross_val_score(knn_credit, X_default, y_default, cv=5, scoring='roc_auc')  # k=5\n",
    "score.mean()"
   ]
  },
  {
   "cell_type": "code",
   "execution_count": 512,
   "metadata": {},
   "outputs": [
    {
     "data": {
      "text/plain": [
       "0.7256954788970633"
      ]
     },
     "execution_count": 512,
     "metadata": {},
     "output_type": "execute_result"
    }
   ],
   "source": [
    "# Decision Tree (DT)\n",
    "dt_credit = DecisionTreeClassifier(max_depth=10)\n",
    "dt_credit.fit(X_default, y_default)\n",
    "\n",
    "# Evaluate using cross-validation\n",
    "score = cross_val_score(dt_credit, X_default, y_default, cv=5, scoring='roc_auc')  # k=5\n",
    "score.mean()"
   ]
  },
  {
   "cell_type": "code",
   "execution_count": 509,
   "metadata": {},
   "outputs": [
    {
     "data": {
      "text/plain": [
       "0.7792414525447761"
      ]
     },
     "execution_count": 509,
     "metadata": {},
     "output_type": "execute_result"
    }
   ],
   "source": [
    "# Random Forest\n",
    "rf_credit = RandomForestClassifier(n_estimators=100, max_depth=10, random_state=123)\n",
    "rf_credit.fit(X_default, y_default)\n",
    "\n",
    "# Evaluate using cross-validation\n",
    "score = cross_val_score(rf_credit, X_default, y_default, cv=5, scoring='roc_auc')  # k=5\n",
    "score.mean()"
   ]
  },
  {
   "cell_type": "code",
   "execution_count": 513,
   "metadata": {},
   "outputs": [
    {
     "data": {
      "text/plain": [
       "0.7711811169006572"
      ]
     },
     "execution_count": 513,
     "metadata": {},
     "output_type": "execute_result"
    }
   ],
   "source": [
    "# Boosting Tree (Boost)\n",
    "boost_credit = AdaBoostClassifier(n_estimators=100, learning_rate=0.1, random_state=123)\n",
    "boost_credit.fit(X_default, y_default)\n",
    "\n",
    "# Evaluate using cross-validation\n",
    "score = cross_val_score(boost_credit, X_default, y_default, cv=5, scoring='roc_auc')  # k=5\n",
    "score.mean()"
   ]
  },
  {
   "cell_type": "markdown",
   "metadata": {},
   "source": [
    "**Exercise 3:** Telco customer churn prediction. Construct LR, kNN, DT, RF and Boost predictive models and compare the AUC performance using 5-fold cross validation.\n",
    "\n",
    "![customer_churn](./img/churn.jpeg)\n",
    "\n",
    "Ref:\n",
    "\n",
    "Max Kuhn. C5.0 Decision Trees and Rule-Based Models. CRAN.  \n",
    "https://cran.r-project.org/web/packages/C50/index.html\n",
    "\n",
    "Sample Applications Using See5/C5.0. RuleQuest Research.  \n",
    "http://www.rulequest.com/see5-examples.html"
   ]
  },
  {
   "cell_type": "code",
   "execution_count": 562,
   "metadata": {},
   "outputs": [
    {
     "data": {
      "text/html": [
       "<div>\n",
       "<style scoped>\n",
       "    .dataframe tbody tr th:only-of-type {\n",
       "        vertical-align: middle;\n",
       "    }\n",
       "\n",
       "    .dataframe tbody tr th {\n",
       "        vertical-align: top;\n",
       "    }\n",
       "\n",
       "    .dataframe thead th {\n",
       "        text-align: right;\n",
       "    }\n",
       "</style>\n",
       "<table border=\"1\" class=\"dataframe\">\n",
       "  <thead>\n",
       "    <tr style=\"text-align: right;\">\n",
       "      <th></th>\n",
       "      <th>cust_id</th>\n",
       "      <th>state</th>\n",
       "      <th>account_length</th>\n",
       "      <th>area_code</th>\n",
       "      <th>international_plan</th>\n",
       "      <th>voice_mail_plan</th>\n",
       "      <th>number_vmail_messages</th>\n",
       "      <th>total_day_minutes</th>\n",
       "      <th>total_day_calls</th>\n",
       "      <th>total_day_charge</th>\n",
       "      <th>...</th>\n",
       "      <th>total_eve_calls</th>\n",
       "      <th>total_eve_charge</th>\n",
       "      <th>total_night_minutes</th>\n",
       "      <th>total_night_calls</th>\n",
       "      <th>total_night_charge</th>\n",
       "      <th>total_intl_minutes</th>\n",
       "      <th>total_intl_calls</th>\n",
       "      <th>total_intl_charge</th>\n",
       "      <th>number_customer_service_calls</th>\n",
       "      <th>churn</th>\n",
       "    </tr>\n",
       "  </thead>\n",
       "  <tbody>\n",
       "    <tr>\n",
       "      <th>0</th>\n",
       "      <td>1</td>\n",
       "      <td>KS</td>\n",
       "      <td>128</td>\n",
       "      <td>area_code_415</td>\n",
       "      <td>no</td>\n",
       "      <td>yes</td>\n",
       "      <td>25</td>\n",
       "      <td>265.1</td>\n",
       "      <td>110</td>\n",
       "      <td>45.07</td>\n",
       "      <td>...</td>\n",
       "      <td>99</td>\n",
       "      <td>16.78</td>\n",
       "      <td>244.7</td>\n",
       "      <td>91</td>\n",
       "      <td>11.01</td>\n",
       "      <td>10.0</td>\n",
       "      <td>3</td>\n",
       "      <td>2.70</td>\n",
       "      <td>1</td>\n",
       "      <td>no</td>\n",
       "    </tr>\n",
       "    <tr>\n",
       "      <th>1</th>\n",
       "      <td>2</td>\n",
       "      <td>OH</td>\n",
       "      <td>107</td>\n",
       "      <td>area_code_415</td>\n",
       "      <td>no</td>\n",
       "      <td>yes</td>\n",
       "      <td>26</td>\n",
       "      <td>161.6</td>\n",
       "      <td>123</td>\n",
       "      <td>27.47</td>\n",
       "      <td>...</td>\n",
       "      <td>103</td>\n",
       "      <td>16.62</td>\n",
       "      <td>254.4</td>\n",
       "      <td>103</td>\n",
       "      <td>11.45</td>\n",
       "      <td>13.7</td>\n",
       "      <td>3</td>\n",
       "      <td>3.70</td>\n",
       "      <td>1</td>\n",
       "      <td>no</td>\n",
       "    </tr>\n",
       "    <tr>\n",
       "      <th>2</th>\n",
       "      <td>3</td>\n",
       "      <td>NJ</td>\n",
       "      <td>137</td>\n",
       "      <td>area_code_415</td>\n",
       "      <td>no</td>\n",
       "      <td>no</td>\n",
       "      <td>0</td>\n",
       "      <td>243.4</td>\n",
       "      <td>114</td>\n",
       "      <td>41.38</td>\n",
       "      <td>...</td>\n",
       "      <td>110</td>\n",
       "      <td>10.30</td>\n",
       "      <td>162.6</td>\n",
       "      <td>104</td>\n",
       "      <td>7.32</td>\n",
       "      <td>12.2</td>\n",
       "      <td>5</td>\n",
       "      <td>3.29</td>\n",
       "      <td>0</td>\n",
       "      <td>no</td>\n",
       "    </tr>\n",
       "    <tr>\n",
       "      <th>3</th>\n",
       "      <td>4</td>\n",
       "      <td>OH</td>\n",
       "      <td>84</td>\n",
       "      <td>area_code_408</td>\n",
       "      <td>yes</td>\n",
       "      <td>no</td>\n",
       "      <td>0</td>\n",
       "      <td>299.4</td>\n",
       "      <td>71</td>\n",
       "      <td>50.90</td>\n",
       "      <td>...</td>\n",
       "      <td>88</td>\n",
       "      <td>5.26</td>\n",
       "      <td>196.9</td>\n",
       "      <td>89</td>\n",
       "      <td>8.86</td>\n",
       "      <td>6.6</td>\n",
       "      <td>7</td>\n",
       "      <td>1.78</td>\n",
       "      <td>2</td>\n",
       "      <td>no</td>\n",
       "    </tr>\n",
       "    <tr>\n",
       "      <th>4</th>\n",
       "      <td>5</td>\n",
       "      <td>OK</td>\n",
       "      <td>75</td>\n",
       "      <td>area_code_415</td>\n",
       "      <td>yes</td>\n",
       "      <td>no</td>\n",
       "      <td>0</td>\n",
       "      <td>166.7</td>\n",
       "      <td>113</td>\n",
       "      <td>28.34</td>\n",
       "      <td>...</td>\n",
       "      <td>122</td>\n",
       "      <td>12.61</td>\n",
       "      <td>186.9</td>\n",
       "      <td>121</td>\n",
       "      <td>8.41</td>\n",
       "      <td>10.1</td>\n",
       "      <td>3</td>\n",
       "      <td>2.73</td>\n",
       "      <td>3</td>\n",
       "      <td>no</td>\n",
       "    </tr>\n",
       "  </tbody>\n",
       "</table>\n",
       "<p>5 rows × 21 columns</p>\n",
       "</div>"
      ],
      "text/plain": [
       "   cust_id state  account_length      area_code international_plan  \\\n",
       "0        1    KS             128  area_code_415                 no   \n",
       "1        2    OH             107  area_code_415                 no   \n",
       "2        3    NJ             137  area_code_415                 no   \n",
       "3        4    OH              84  area_code_408                yes   \n",
       "4        5    OK              75  area_code_415                yes   \n",
       "\n",
       "  voice_mail_plan  number_vmail_messages  total_day_minutes  total_day_calls  \\\n",
       "0             yes                     25              265.1              110   \n",
       "1             yes                     26              161.6              123   \n",
       "2              no                      0              243.4              114   \n",
       "3              no                      0              299.4               71   \n",
       "4              no                      0              166.7              113   \n",
       "\n",
       "   total_day_charge  ...    total_eve_calls  total_eve_charge  \\\n",
       "0             45.07  ...                 99             16.78   \n",
       "1             27.47  ...                103             16.62   \n",
       "2             41.38  ...                110             10.30   \n",
       "3             50.90  ...                 88              5.26   \n",
       "4             28.34  ...                122             12.61   \n",
       "\n",
       "   total_night_minutes  total_night_calls  total_night_charge  \\\n",
       "0                244.7                 91               11.01   \n",
       "1                254.4                103               11.45   \n",
       "2                162.6                104                7.32   \n",
       "3                196.9                 89                8.86   \n",
       "4                186.9                121                8.41   \n",
       "\n",
       "   total_intl_minutes  total_intl_calls  total_intl_charge  \\\n",
       "0                10.0                 3               2.70   \n",
       "1                13.7                 3               3.70   \n",
       "2                12.2                 5               3.29   \n",
       "3                 6.6                 7               1.78   \n",
       "4                10.1                 3               2.73   \n",
       "\n",
       "   number_customer_service_calls  churn  \n",
       "0                              1     no  \n",
       "1                              1     no  \n",
       "2                              0     no  \n",
       "3                              2     no  \n",
       "4                              3     no  \n",
       "\n",
       "[5 rows x 21 columns]"
      ]
     },
     "execution_count": 562,
     "metadata": {},
     "output_type": "execute_result"
    }
   ],
   "source": [
    "# Import data\n",
    "churn = pd.read_excel('./data/telco_churn_C50.xls')\n",
    "churn.head()"
   ]
  },
  {
   "cell_type": "code",
   "execution_count": 563,
   "metadata": {},
   "outputs": [],
   "source": [
    "# Process data\n",
    "\n",
    "# Drop some columns\n",
    "churn = churn.drop(['cust_id', 'state'], axis=1, errors='ignore')\n",
    "\n",
    "# Separate data into predictors and response\n",
    "X_churn = churn.iloc[:, :-1]\n",
    "y_churn = churn['churn']"
   ]
  },
  {
   "cell_type": "code",
   "execution_count": 567,
   "metadata": {},
   "outputs": [],
   "source": [
    "# Convert categorical variables to dummied variables\n",
    "cat_vars = ['area_code', 'international_plan', 'voice_mail_plan']\n",
    "\n",
    "for v in cat_vars:\n",
    "    dum_var = pd.get_dummies(X_churn[v], dummy_na=False, drop_first=True)  # Get dummied variables\n",
    "    X_churn = pd.concat((X_churn, dum_var), axis=1)  # Combine the dummied variables with the data\n",
    "    X_churn = X_churn.drop(v, axis=1, errors='ignore')  # Drop categorical column, done"
   ]
  },
  {
   "cell_type": "code",
   "execution_count": 568,
   "metadata": {},
   "outputs": [
    {
     "name": "stderr",
     "output_type": "stream",
     "text": [
      "D:\\Anaconda3\\Lib\\site-packages\\sklearn\\linear_model\\logistic.py:432: FutureWarning: Default solver will be changed to 'lbfgs' in 0.22. Specify a solver to silence this warning.\n",
      "  FutureWarning)\n",
      "D:\\Anaconda3\\Lib\\site-packages\\sklearn\\linear_model\\logistic.py:432: FutureWarning: Default solver will be changed to 'lbfgs' in 0.22. Specify a solver to silence this warning.\n",
      "  FutureWarning)\n",
      "D:\\Anaconda3\\Lib\\site-packages\\sklearn\\linear_model\\logistic.py:432: FutureWarning: Default solver will be changed to 'lbfgs' in 0.22. Specify a solver to silence this warning.\n",
      "  FutureWarning)\n",
      "D:\\Anaconda3\\Lib\\site-packages\\sklearn\\linear_model\\logistic.py:432: FutureWarning: Default solver will be changed to 'lbfgs' in 0.22. Specify a solver to silence this warning.\n",
      "  FutureWarning)\n",
      "D:\\Anaconda3\\Lib\\site-packages\\sklearn\\linear_model\\logistic.py:432: FutureWarning: Default solver will be changed to 'lbfgs' in 0.22. Specify a solver to silence this warning.\n",
      "  FutureWarning)\n",
      "D:\\Anaconda3\\Lib\\site-packages\\sklearn\\linear_model\\logistic.py:432: FutureWarning: Default solver will be changed to 'lbfgs' in 0.22. Specify a solver to silence this warning.\n",
      "  FutureWarning)\n"
     ]
    },
    {
     "data": {
      "text/plain": [
       "0.8134258380056671"
      ]
     },
     "execution_count": 568,
     "metadata": {},
     "output_type": "execute_result"
    }
   ],
   "source": [
    "# Logistic Regression\n",
    "lr_churn = LogisticRegression()\n",
    "lr_churn.fit(X_churn, y_churn)\n",
    "\n",
    "# Evaluate using cross-validation\n",
    "score = cross_val_score(lr_churn, X_churn, y_churn, cv=5, scoring='roc_auc')  # k=5\n",
    "score.mean()"
   ]
  },
  {
   "cell_type": "code",
   "execution_count": 569,
   "metadata": {},
   "outputs": [
    {
     "data": {
      "text/plain": [
       "0.6879602060348466"
      ]
     },
     "execution_count": 569,
     "metadata": {},
     "output_type": "execute_result"
    }
   ],
   "source": [
    "# k-Nearest Neighbors (kNN)\n",
    "knn_churn = KNeighborsClassifier(n_neighbors=10)\n",
    "knn_churn.fit(X_churn, y_churn)\n",
    "\n",
    "# Evaluate using cross-validation\n",
    "score = cross_val_score(knn_churn, X_churn, y_churn, cv=5, scoring='roc_auc')  # k=5\n",
    "score.mean()"
   ]
  },
  {
   "cell_type": "code",
   "execution_count": 570,
   "metadata": {},
   "outputs": [
    {
     "data": {
      "text/plain": [
       "0.8387944813709531"
      ]
     },
     "execution_count": 570,
     "metadata": {},
     "output_type": "execute_result"
    }
   ],
   "source": [
    "# Decision Tree (DT)\n",
    "dt_churn = DecisionTreeClassifier(max_depth=10)\n",
    "dt_churn.fit(X_churn, y_churn)\n",
    "\n",
    "# Evaluate using cross-validation\n",
    "score = cross_val_score(dt_churn, X_churn, y_churn, cv=5, scoring='roc_auc')  # k=5\n",
    "score.mean()"
   ]
  },
  {
   "cell_type": "code",
   "execution_count": 571,
   "metadata": {},
   "outputs": [
    {
     "data": {
      "text/plain": [
       "0.91680046874058"
      ]
     },
     "execution_count": 571,
     "metadata": {},
     "output_type": "execute_result"
    }
   ],
   "source": [
    "# Random Forest\n",
    "rf_churn = RandomForestClassifier(n_estimators=100, max_depth=10, random_state=123)\n",
    "rf_churn.fit(X_churn, y_churn)\n",
    "\n",
    "# Evaluate using cross-validation\n",
    "score = cross_val_score(rf_churn, X_churn, y_churn, cv=5, scoring='roc_auc')  # k=5\n",
    "score.mean()"
   ]
  },
  {
   "cell_type": "code",
   "execution_count": 572,
   "metadata": {},
   "outputs": [
    {
     "data": {
      "text/plain": [
       "0.87188472146862"
      ]
     },
     "execution_count": 572,
     "metadata": {},
     "output_type": "execute_result"
    }
   ],
   "source": [
    "# Boosting Tree (Boost)\n",
    "boost_churn = AdaBoostClassifier(n_estimators=100, learning_rate=0.1, random_state=123)\n",
    "boost_churn.fit(X_churn, y_churn)\n",
    "\n",
    "# Evaluate using cross-validation\n",
    "score = cross_val_score(boost_churn, X_churn, y_churn, cv=5, scoring='roc_auc')  # k=5\n",
    "score.mean()"
   ]
  }
 ],
 "metadata": {
  "kernelspec": {
   "display_name": "Python 3",
   "language": "python",
   "name": "python3"
  },
  "language_info": {
   "codemirror_mode": {
    "name": "ipython",
    "version": 3
   },
   "file_extension": ".py",
   "mimetype": "text/x-python",
   "name": "python",
   "nbconvert_exporter": "python",
   "pygments_lexer": "ipython3",
   "version": "3.7.0"
  }
 },
 "nbformat": 4,
 "nbformat_minor": 2
}
